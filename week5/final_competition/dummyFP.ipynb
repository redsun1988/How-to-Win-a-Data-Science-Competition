{
 "cells": [
  {
   "cell_type": "code",
   "execution_count": 1,
   "metadata": {},
   "outputs": [
    {
     "name": "stdout",
     "output_type": "stream",
     "text": [
      "numpy 1.16.4\n",
      "pandas 0.24.2\n",
      "sklearn 0.21.2\n"
     ]
    }
   ],
   "source": [
    "import numpy as np # linear algebra\n",
    "import pandas as pd # data processing, CSV file I/O (e.g. pd.read_csv)\n",
    "import sklearn\n",
    "from itertools import product\n",
    "\n",
    "from sklearn import preprocessing\n",
    "import xgboost as xgb\n",
    "import gc\n",
    "import pickle\n",
    "import time\n",
    "\n",
    "from xgboost import plot_importance\n",
    "from sklearn.ensemble import RandomForestClassifier\n",
    "from sklearn.model_selection import TimeSeriesSplit\n",
    "from sklearn.linear_model import LogisticRegression\n",
    "\n",
    "import matplotlib.pyplot as plt\n",
    "import os\n",
    "import seaborn as sns\n",
    "from sklearn.linear_model import LinearRegression\n",
    "from sklearn.metrics import mean_squared_error\n",
    "from sklearn.feature_extraction.text import TfidfVectorizer\n",
    "\n",
    "for p in [np, pd, sklearn]:\n",
    "    print (p.__name__, p.__version__)\n",
    "\n",
    "BASE_DIR= \"data/\""
   ]
  },
  {
   "cell_type": "code",
   "execution_count": 2,
   "metadata": {},
   "outputs": [],
   "source": [
    "salesData= pd.read_csv(f\"{BASE_DIR}sales_train_v2.csv\")\n",
    "items= pd.read_csv(f\"{BASE_DIR}items.csv\")\n",
    "testDF= pd.read_csv(f\"{BASE_DIR}test.csv\")\n",
    "itemCategories= pd.read_csv(f\"{BASE_DIR}item_categories.csv\")\n",
    "shops= pd.read_csv(f\"{BASE_DIR}shops.csv\")\n",
    "salesData.drop(['date'],axis=1,inplace=True)"
   ]
  },
  {
   "cell_type": "code",
   "execution_count": 3,
   "metadata": {},
   "outputs": [
    {
     "name": "stdout",
     "output_type": "stream",
     "text": [
      "Number of unique test items = 5100\n",
      "Number of unique train items = 21807\n"
     ]
    }
   ],
   "source": [
    "#EDA\n",
    "uniqueTestItems =  testDF['item_id'].nunique()\n",
    "print(\"Number of unique test items = \"+str(uniqueTestItems))\n",
    "\n",
    "uniqueTrainItems =  salesData['item_id'].nunique()\n",
    "print(\"Number of unique train items = \"+str(uniqueTrainItems))"
   ]
  },
  {
   "cell_type": "code",
   "execution_count": 4,
   "metadata": {},
   "outputs": [
    {
     "name": "stdout",
     "output_type": "stream",
     "text": [
      "Number of unique test shops = 42\n",
      "Number of unique train shops = 60\n"
     ]
    }
   ],
   "source": [
    "#There is a lot of discrepancy between items in train and test set. Let us analyze this same thing about shops\n",
    "uniqueTestShops =  testDF['shop_id'].nunique()\n",
    "print(\"Number of unique test shops = \"+str(uniqueTestShops))\n",
    "\n",
    "uniqueTrainShops =  salesData['shop_id'].nunique()\n",
    "print(\"Number of unique train shops = \"+str(uniqueTrainShops))"
   ]
  },
  {
   "cell_type": "code",
   "execution_count": 5,
   "metadata": {},
   "outputs": [
    {
     "data": {
      "text/plain": [
       "0.0766307789740342"
      ]
     },
     "execution_count": 5,
     "metadata": {},
     "output_type": "execute_result"
    }
   ],
   "source": [
    "#Number of items present in train, but not in test\n",
    "uniqueTrainItems = salesData['item_id'].unique()\n",
    "itemsNotInTrainDF = testDF[ ~testDF['item_id'].isin( uniqueTrainItems ) ]\n",
    "itemsInTrainDF = testDF[ testDF['item_id'].isin( uniqueTrainItems ) ]\n",
    "itemsNotInTrainDF.shape[0]/itemsInTrainDF.shape[0]"
   ]
  },
  {
   "cell_type": "code",
   "execution_count": 6,
   "metadata": {},
   "outputs": [
    {
     "data": {
      "text/plain": [
       "0.0"
      ]
     },
     "execution_count": 6,
     "metadata": {},
     "output_type": "execute_result"
    }
   ],
   "source": [
    "#Now let's do this similar for the shop_ids\n",
    "uniqueTrainShops = salesData['shop_id'].unique()\n",
    "shopsNotInTrainDF = testDF[ ~testDF['shop_id'].isin( uniqueTrainShops ) ]\n",
    "shopsInTrainDF = testDF[ testDF['shop_id'].isin( uniqueTrainShops ) ]\n",
    "shopsNotInTrainDF.shape[0]/shopsInTrainDF.shape[0]"
   ]
  },
  {
   "cell_type": "code",
   "execution_count": 7,
   "metadata": {},
   "outputs": [
    {
     "data": {
      "text/plain": [
       "0.41706470598453804"
      ]
     },
     "execution_count": 7,
     "metadata": {},
     "output_type": "execute_result"
    }
   ],
   "source": [
    "#Now let's check the train data which include shop and item values from test data\n",
    "filteredTrainDataWithItemAndShopPair= salesData[( salesData['item_id'].isin(testDF['item_id'].unique()) ) &\n",
    "                            ( salesData['shop_id'].isin(testDF['shop_id'].unique()) )]\n",
    "filteredTrainDataWithItemAndShopPair.shape[0]/salesData.shape[0]"
   ]
  },
  {
   "cell_type": "code",
   "execution_count": 8,
   "metadata": {},
   "outputs": [
    {
     "data": {
      "text/plain": [
       "0.8974620288713758"
      ]
     },
     "execution_count": 8,
     "metadata": {},
     "output_type": "execute_result"
    }
   ],
   "source": [
    "#Train values which have have same item pairs or shop pairs\n",
    "filteredTrainDataWithItemPair= salesData[( salesData['item_id'].isin(testDF['item_id'].unique()) ) |\n",
    "                            ( salesData['shop_id'].isin(testDF['shop_id'].unique()) )]\n",
    "filteredTrainDataWithItemPair.shape[0]/salesData.shape[0]"
   ]
  },
  {
   "cell_type": "code",
   "execution_count": 9,
   "metadata": {},
   "outputs": [
    {
     "data": {
      "text/html": [
       "<div>\n",
       "<style scoped>\n",
       "    .dataframe tbody tr th:only-of-type {\n",
       "        vertical-align: middle;\n",
       "    }\n",
       "\n",
       "    .dataframe tbody tr th {\n",
       "        vertical-align: top;\n",
       "    }\n",
       "\n",
       "    .dataframe thead th {\n",
       "        text-align: right;\n",
       "    }\n",
       "</style>\n",
       "<table border=\"1\" class=\"dataframe\">\n",
       "  <thead>\n",
       "    <tr style=\"text-align: right;\">\n",
       "      <th></th>\n",
       "      <th>count</th>\n",
       "      <th>mean</th>\n",
       "      <th>std</th>\n",
       "      <th>min</th>\n",
       "      <th>25%</th>\n",
       "      <th>50%</th>\n",
       "      <th>75%</th>\n",
       "      <th>max</th>\n",
       "    </tr>\n",
       "  </thead>\n",
       "  <tbody>\n",
       "    <tr>\n",
       "      <th>date_block_num</th>\n",
       "      <td>2935849.0</td>\n",
       "      <td>14.569911</td>\n",
       "      <td>9.422988</td>\n",
       "      <td>0.0</td>\n",
       "      <td>7.0</td>\n",
       "      <td>14.0</td>\n",
       "      <td>23.0</td>\n",
       "      <td>33.0</td>\n",
       "    </tr>\n",
       "    <tr>\n",
       "      <th>shop_id</th>\n",
       "      <td>2935849.0</td>\n",
       "      <td>33.001728</td>\n",
       "      <td>16.226973</td>\n",
       "      <td>0.0</td>\n",
       "      <td>22.0</td>\n",
       "      <td>31.0</td>\n",
       "      <td>47.0</td>\n",
       "      <td>59.0</td>\n",
       "    </tr>\n",
       "    <tr>\n",
       "      <th>item_id</th>\n",
       "      <td>2935849.0</td>\n",
       "      <td>10197.227057</td>\n",
       "      <td>6324.297354</td>\n",
       "      <td>0.0</td>\n",
       "      <td>4476.0</td>\n",
       "      <td>9343.0</td>\n",
       "      <td>15684.0</td>\n",
       "      <td>22169.0</td>\n",
       "    </tr>\n",
       "    <tr>\n",
       "      <th>item_price</th>\n",
       "      <td>2935849.0</td>\n",
       "      <td>890.853233</td>\n",
       "      <td>1729.799631</td>\n",
       "      <td>-1.0</td>\n",
       "      <td>249.0</td>\n",
       "      <td>399.0</td>\n",
       "      <td>999.0</td>\n",
       "      <td>307980.0</td>\n",
       "    </tr>\n",
       "    <tr>\n",
       "      <th>item_cnt_day</th>\n",
       "      <td>2935849.0</td>\n",
       "      <td>1.242641</td>\n",
       "      <td>2.618834</td>\n",
       "      <td>-22.0</td>\n",
       "      <td>1.0</td>\n",
       "      <td>1.0</td>\n",
       "      <td>1.0</td>\n",
       "      <td>2169.0</td>\n",
       "    </tr>\n",
       "  </tbody>\n",
       "</table>\n",
       "</div>"
      ],
      "text/plain": [
       "                    count          mean          std   min     25%     50%  \\\n",
       "date_block_num  2935849.0     14.569911     9.422988   0.0     7.0    14.0   \n",
       "shop_id         2935849.0     33.001728    16.226973   0.0    22.0    31.0   \n",
       "item_id         2935849.0  10197.227057  6324.297354   0.0  4476.0  9343.0   \n",
       "item_price      2935849.0    890.853233  1729.799631  -1.0   249.0   399.0   \n",
       "item_cnt_day    2935849.0      1.242641     2.618834 -22.0     1.0     1.0   \n",
       "\n",
       "                    75%       max  \n",
       "date_block_num     23.0      33.0  \n",
       "shop_id            47.0      59.0  \n",
       "item_id         15684.0   22169.0  \n",
       "item_price        999.0  307980.0  \n",
       "item_cnt_day        1.0    2169.0  "
      ]
     },
     "execution_count": 9,
     "metadata": {},
     "output_type": "execute_result"
    }
   ],
   "source": [
    "salesData.describe().T"
   ]
  },
  {
   "cell_type": "code",
   "execution_count": 10,
   "metadata": {},
   "outputs": [
    {
     "name": "stdout",
     "output_type": "stream",
     "text": [
      "1\n",
      "0\n"
     ]
    }
   ],
   "source": [
    "#There is only 1 negative price value, and no missing values, which will be tackled by using \n",
    "#filteredTrainDataWithItemPair as our train data\n",
    "print(salesData[salesData['item_price']<=0].shape[0])\n",
    "print(filteredTrainDataWithItemPair[filteredTrainDataWithItemPair['item_price']<=0].shape[0])"
   ]
  },
  {
   "cell_type": "code",
   "execution_count": 11,
   "metadata": {},
   "outputs": [
    {
     "data": {
      "image/png": "[encoded data removed]",
      "text/plain": [
       "<Figure size 1584x576 with 1 Axes>"
      ]
     },
     "metadata": {
      "needs_background": "light"
     },
     "output_type": "display_data"
    }
   ],
   "source": [
    "#We have no missing values here and we can strip off outliers\n",
    "plt.subplots(figsize=(22, 8))\n",
    "sns.boxplot(salesData['item_cnt_day'])\n",
    "plt.show()"
   ]
  },
  {
   "cell_type": "code",
   "execution_count": 12,
   "metadata": {},
   "outputs": [
    {
     "data": {
      "image/png": "[encoded data removed]",
      "text/plain": [
       "<Figure size 1584x576 with 1 Axes>"
      ]
     },
     "metadata": {
      "needs_background": "light"
     },
     "output_type": "display_data"
    }
   ],
   "source": [
    "#We have extreme outlier in both cases of avg_price and target\n",
    "plt.subplots(figsize=(22, 8))\n",
    "sns.boxplot(salesData['item_price'])\n",
    "plt.show()"
   ]
  },
  {
   "cell_type": "code",
   "execution_count": 13,
   "metadata": {},
   "outputs": [
    {
     "data": {
      "text/plain": [
       "0.9166666666666666"
      ]
     },
     "execution_count": 13,
     "metadata": {},
     "output_type": "execute_result"
    }
   ],
   "source": [
    "#There is some pattern in shop names and category names\n",
    "#More than 90% Catrgories have - in their names and they represents label\n",
    "tmpCat= itemCategories.copy()\n",
    "tmpCat['isHyphenInName']= tmpCat['item_category_name'].apply(lambda x: 1 if '-' in x else 0)\n",
    "tmpCat['isHyphenInName'].sum()/tmpCat.shape[0]"
   ]
  },
  {
   "cell_type": "code",
   "execution_count": null,
   "metadata": {},
   "outputs": [],
   "source": []
  },
  {
   "cell_type": "code",
   "execution_count": 14,
   "metadata": {},
   "outputs": [
    {
     "data": {
      "text/plain": [
       "0.5333333333333333"
      ]
     },
     "execution_count": 14,
     "metadata": {},
     "output_type": "execute_result"
    }
   ],
   "source": [
    "#Looking at shop names show a pattern of same first words and they represents \n",
    "#city name according to discussion forums on Kaggle\n",
    "tmpShops= shops.copy()\n",
    "tmpShops['firstWordInName']= tmpShops['shop_name'].apply(lambda x: x.split(' ')[0])\n",
    "tmpShops['firstWordInName'].nunique()/tmpShops.shape[0]"
   ]
  },
  {
   "cell_type": "code",
   "execution_count": 15,
   "metadata": {},
   "outputs": [
    {
     "data": {
      "text/plain": [
       "array(['!Якутск Орджоникидзе, 56 фран', '!Якутск ТЦ \"Центральный\" фран',\n",
       "       'Адыгея ТЦ \"Мега\"', 'Балашиха ТРК \"Октябрь-Киномир\"',\n",
       "       'Волжский ТЦ \"Волга Молл\"', 'Вологда ТРЦ \"Мармелад\"',\n",
       "       'Воронеж (Плехановская, 13)', 'Воронеж ТРЦ \"Максимир\"',\n",
       "       'Воронеж ТРЦ Сити-Парк \"Град\"', 'Выездная Торговля',\n",
       "       'Жуковский ул. Чкалова 39м?', 'Жуковский ул. Чкалова 39м²',\n",
       "       'Интернет-магазин ЧС', 'Казань ТЦ \"Бехетле\"',\n",
       "       'Казань ТЦ \"ПаркХаус\" II', 'Калуга ТРЦ \"XXI век\"',\n",
       "       'Коломна ТЦ \"Рио\"', 'Красноярск ТЦ \"Взлетка Плаза\"',\n",
       "       'Красноярск ТЦ \"Июнь\"', 'Курск ТЦ \"Пушкинский\"',\n",
       "       'Москва \"Распродажа\"', 'Москва МТРЦ \"Афи Молл\"',\n",
       "       'Москва Магазин С21', 'Москва ТК \"Буденовский\" (пав.А2)',\n",
       "       'Москва ТК \"Буденовский\" (пав.К7)', 'Москва ТРК \"Атриум\"',\n",
       "       'Москва ТЦ \"Ареал\" (Беляево)', 'Москва ТЦ \"МЕГА Белая Дача II\"',\n",
       "       'Москва ТЦ \"МЕГА Теплый Стан\" II',\n",
       "       'Москва ТЦ \"Новый век\" (Новокосино)', 'Москва ТЦ \"Перловский\"',\n",
       "       'Москва ТЦ \"Семеновский\"', 'Москва ТЦ \"Серебряный Дом\"',\n",
       "       'Мытищи ТРК \"XL-3\"', 'Н.Новгород ТРЦ \"РИО\"',\n",
       "       'Н.Новгород ТРЦ \"Фантастика\"',\n",
       "       'Новосибирск ТРЦ \"Галерея Новосибирск\"', 'Новосибирск ТЦ \"Мега\"',\n",
       "       'Омск ТЦ \"Мега\"', 'РостовНаДону ТРК \"Мегацентр Горизонт\"',\n",
       "       'РостовНаДону ТРК \"Мегацентр Горизонт\" Островной',\n",
       "       'РостовНаДону ТЦ \"Мега\"', 'СПб ТК \"Невский Центр\"',\n",
       "       'СПб ТК \"Сенная\"', 'Самара ТЦ \"Мелодия\"', 'Самара ТЦ \"ПаркХаус\"',\n",
       "       'Сергиев Посад ТЦ \"7Я\"', 'Сургут ТРЦ \"Сити Молл\"',\n",
       "       'Томск ТРЦ \"Изумрудный Город\"', 'Тюмень ТРЦ \"Кристалл\"',\n",
       "       'Тюмень ТЦ \"Гудвин\"', 'Тюмень ТЦ \"Зеленый Берег\"',\n",
       "       'Уфа ТК \"Центральный\"', 'Уфа ТЦ \"Семья\" 2', 'Химки ТЦ \"Мега\"',\n",
       "       'Цифровой склад 1С-Онлайн', 'Чехов ТРЦ \"Карнавал\"',\n",
       "       'Якутск Орджоникидзе, 56', 'Якутск ТЦ \"Центральный\"',\n",
       "       'Ярославль ТЦ \"Альтаир\"'], dtype=object)"
      ]
     },
     "execution_count": 15,
     "metadata": {},
     "output_type": "execute_result"
    }
   ],
   "source": [
    "#let is check the shop values\n",
    "np.unique(shops.shop_name.values)"
   ]
  },
  {
   "cell_type": "code",
   "execution_count": 16,
   "metadata": {},
   "outputs": [
    {
     "data": {
      "text/plain": [
       "array(['!Якутск Орджоникидзе, 56 фран', '!Якутск ТЦ \"Центральный\" фран',\n",
       "       'Адыгея ТЦ \"Мега\"', 'Балашиха ТРК \"Октябрь-Киномир\"',\n",
       "       'Волжский ТЦ \"Волга Молл\"', 'Вологда ТРЦ \"Мармелад\"',\n",
       "       'Воронеж (Плехановская, 13)', 'Воронеж ТРЦ \"Максимир\"',\n",
       "       'Воронеж ТРЦ Сити-Парк \"Град\"', 'Выездная Торговля',\n",
       "       'Жуковский ул. Чкалова 39м?', 'Жуковский ул. Чкалова 39м²',\n",
       "       'Интернет-магазин ЧС', 'Казань ТЦ \"Бехетле\"',\n",
       "       'Казань ТЦ \"ПаркХаус\" II', 'Калуга ТРЦ \"XXI век\"',\n",
       "       'Коломна ТЦ \"Рио\"', 'Красноярск ТЦ \"Взлетка Плаза\"',\n",
       "       'Красноярск ТЦ \"Июнь\"', 'Курск ТЦ \"Пушкинский\"',\n",
       "       'Москва \"Распродажа\"', 'Москва МТРЦ \"Афи Молл\"',\n",
       "       'Москва Магазин С21', 'Москва ТК \"Буденовский\" (пав.А2)',\n",
       "       'Москва ТК \"Буденовский\" (пав.К7)', 'Москва ТРК \"Атриум\"',\n",
       "       'Москва ТЦ \"Ареал\" (Беляево)', 'Москва ТЦ \"МЕГА Белая Дача II\"',\n",
       "       'Москва ТЦ \"МЕГА Теплый Стан\" II',\n",
       "       'Москва ТЦ \"Новый век\" (Новокосино)', 'Москва ТЦ \"Перловский\"',\n",
       "       'Москва ТЦ \"Семеновский\"', 'Москва ТЦ \"Серебряный Дом\"',\n",
       "       'Мытищи ТРК \"XL-3\"', 'Н.Новгород ТРЦ \"РИО\"',\n",
       "       'Н.Новгород ТРЦ \"Фантастика\"',\n",
       "       'Новосибирск ТРЦ \"Галерея Новосибирск\"', 'Новосибирск ТЦ \"Мега\"',\n",
       "       'Омск ТЦ \"Мега\"', 'РостовНаДону ТРК \"Мегацентр Горизонт\"',\n",
       "       'РостовНаДону ТРК \"Мегацентр Горизонт\" Островной',\n",
       "       'РостовНаДону ТЦ \"Мега\"', 'СПб ТК \"Невский Центр\"',\n",
       "       'СПб ТК \"Сенная\"', 'Самара ТЦ \"Мелодия\"', 'Самара ТЦ \"ПаркХаус\"',\n",
       "       'Сергиев Посад ТЦ \"7Я\"', 'Сургут ТРЦ \"Сити Молл\"',\n",
       "       'Томск ТРЦ \"Изумрудный Город\"', 'Тюмень ТРЦ \"Кристалл\"',\n",
       "       'Тюмень ТЦ \"Гудвин\"', 'Тюмень ТЦ \"Зеленый Берег\"',\n",
       "       'Уфа ТК \"Центральный\"', 'Уфа ТЦ \"Семья\" 2', 'Химки ТЦ \"Мега\"',\n",
       "       'Цифровой склад 1С-Онлайн', 'Чехов ТРЦ \"Карнавал\"',\n",
       "       'Якутск Орджоникидзе, 56', 'Якутск ТЦ \"Центральный\"',\n",
       "       'Ярославль ТЦ \"Альтаир\"'], dtype=object)"
      ]
     },
     "execution_count": 16,
     "metadata": {},
     "output_type": "execute_result"
    }
   ],
   "source": [
    "#Looks like we have duplicates \n",
    "#!Якутск Орджоникидзе, 56 фран', '!Якутск ТЦ \"Центральный\" фран' \n",
    "#'Якутск Орджоникидзе, 56', 'Якутск ТЦ \"Центральный\"'\n",
    "#'Жуковский ул. Чкалова 39м?' - this value is incorrect\n",
    "#Lets fix them\n",
    "# Якутск Орджоникидзе, 56\n",
    "salesData.loc[salesData.shop_id == 0, 'shop_id'] = 57\n",
    "testDF.loc[testDF.shop_id == 0, 'shop_id'] = 57\n",
    "# Якутск ТЦ \"Центральный\"\n",
    "salesData.loc[salesData.shop_id == 1, 'shop_id'] = 58\n",
    "testDF.loc[testDF.shop_id == 1, 'shop_id'] = 58\n",
    "# Жуковский ул. Чкалова 39м²\n",
    "salesData.loc[salesData.shop_id == 10, 'shop_id'] = 11\n",
    "testDF.loc[testDF.shop_id == 10, 'shop_id'] = 11\n",
    "\n",
    "#shops.shop_name = shops.shop_name.apply(lambda name: name.replace(\"!\", \"\"))\n",
    "#shops.shop_name = shops.shop_name.apply(lambda name: name.replace(\"39м?\", \"39м²\"))\n",
    "np.unique(shops.shop_name.values)"
   ]
  },
  {
   "cell_type": "code",
   "execution_count": 17,
   "metadata": {},
   "outputs": [],
   "source": [
    "#Filtering data after EDA\n",
    "salesData= filteredTrainDataWithItemPair\n",
    "salesData=salesData[ (salesData['item_price']<50000) & (salesData['item_cnt_day']<500)]"
   ]
  },
  {
   "cell_type": "code",
   "execution_count": 18,
   "metadata": {},
   "outputs": [],
   "source": [
    "targetDF= salesData.groupby(['item_id','shop_id','date_block_num'],as_index=False).agg({'item_cnt_day':['sum'],'item_price':'mean'})\n",
    "targetDF.columns= ['item_id','shop_id','date_block_num','target','avg_price']"
   ]
  },
  {
   "cell_type": "code",
   "execution_count": 19,
   "metadata": {},
   "outputs": [
    {
     "name": "stdout",
     "output_type": "stream",
     "text": [
      "--- 7.679673433303833 seconds ---\n"
     ]
    }
   ],
   "source": [
    "#cartesian of item,shop,date pair\n",
    "#Need to create every item,shop pair, just similar to courseera Week 4 assignment\n",
    "\n",
    "start_time = time.time()\n",
    "cartesianList=[]\n",
    "for i in range(34):\n",
    "    tmpDF= targetDF[targetDF['date_block_num']==i]\n",
    "    shopIDList= tmpDF['shop_id'].unique()\n",
    "    itemIDList= tmpDF['item_id'].unique()\n",
    "    cartesianRes = list(product(*[shopIDList, itemIDList, [i]]))\n",
    "    cartesianList.append(cartesianRes)\n",
    "cartesianList= np.vstack(cartesianList)\n",
    "cartesianDF= pd.DataFrame(cartesianList,columns=['shop_id','item_id','date_block_num'])\n",
    "del cartesianList\n",
    "\n",
    "print(\"--- %s seconds ---\" % (time.time() - start_time))"
   ]
  },
  {
   "cell_type": "code",
   "execution_count": 20,
   "metadata": {},
   "outputs": [],
   "source": [
    "#Merging test data with date_block_num = 34\n",
    "testDF['date_block_num'] = 34\n",
    "testDF['date_block_num'] = testDF['date_block_num'].astype(np.int8)\n",
    "testDF['shop_id'] = testDF['shop_id'].astype(np.int8)\n",
    "testDF['item_id'] = testDF['item_id'].astype(np.int16)\n",
    "\n",
    "cartesianDF = pd.concat([cartesianDF, testDF], ignore_index=True, sort=False, keys=['shop_id','item_id','date_block_num'])"
   ]
  },
  {
   "cell_type": "code",
   "execution_count": 21,
   "metadata": {},
   "outputs": [
    {
     "name": "stdout",
     "output_type": "stream",
     "text": [
      "--- 5.282384395599365 seconds ---\n"
     ]
    }
   ],
   "source": [
    "start_time = time.time()\n",
    "resDF= cartesianDF.merge(targetDF,how='left',on=['shop_id','item_id','date_block_num'])\n",
    "print(\"--- %s seconds ---\" % (time.time() - start_time))"
   ]
  },
  {
   "cell_type": "code",
   "execution_count": 22,
   "metadata": {},
   "outputs": [
    {
     "name": "stderr",
     "output_type": "stream",
     "text": [
      "C:\\Users\\Maks Konyaev\\Anaconda3\\lib\\site-packages\\ipykernel_launcher.py:10: SettingWithCopyWarning: \n",
      "A value is trying to be set on a copy of a slice from a DataFrame\n",
      "\n",
      "See the caveats in the documentation: http://pandas.pydata.org/pandas-docs/stable/indexing.html#indexing-view-versus-copy\n",
      "  # Remove the CWD from sys.path while we load stuff.\n"
     ]
    },
    {
     "name": "stdout",
     "output_type": "stream",
     "text": [
      "--- 9.297147989273071 seconds ---\n"
     ]
    },
    {
     "data": {
      "text/html": [
       "<div>\n",
       "<style scoped>\n",
       "    .dataframe tbody tr th:only-of-type {\n",
       "        vertical-align: middle;\n",
       "    }\n",
       "\n",
       "    .dataframe tbody tr th {\n",
       "        vertical-align: top;\n",
       "    }\n",
       "\n",
       "    .dataframe thead th {\n",
       "        text-align: right;\n",
       "    }\n",
       "</style>\n",
       "<table border=\"1\" class=\"dataframe\">\n",
       "  <thead>\n",
       "    <tr style=\"text-align: right;\">\n",
       "      <th></th>\n",
       "      <th>count</th>\n",
       "      <th>mean</th>\n",
       "      <th>std</th>\n",
       "      <th>min</th>\n",
       "      <th>25%</th>\n",
       "      <th>50%</th>\n",
       "      <th>75%</th>\n",
       "      <th>max</th>\n",
       "    </tr>\n",
       "  </thead>\n",
       "  <tbody>\n",
       "    <tr>\n",
       "      <th>shop_id</th>\n",
       "      <td>10600939.0</td>\n",
       "      <td>31.228952</td>\n",
       "      <td>17.356838</td>\n",
       "      <td>0.00</td>\n",
       "      <td>16.000000</td>\n",
       "      <td>30.0</td>\n",
       "      <td>47.00</td>\n",
       "      <td>59.0</td>\n",
       "    </tr>\n",
       "    <tr>\n",
       "      <th>item_id</th>\n",
       "      <td>10600939.0</td>\n",
       "      <td>11255.688619</td>\n",
       "      <td>6213.204837</td>\n",
       "      <td>1.00</td>\n",
       "      <td>5871.000000</td>\n",
       "      <td>11342.0</td>\n",
       "      <td>16540.00</td>\n",
       "      <td>22169.0</td>\n",
       "    </tr>\n",
       "    <tr>\n",
       "      <th>date_block_num</th>\n",
       "      <td>10600939.0</td>\n",
       "      <td>15.512365</td>\n",
       "      <td>9.798283</td>\n",
       "      <td>0.00</td>\n",
       "      <td>7.000000</td>\n",
       "      <td>15.0</td>\n",
       "      <td>23.00</td>\n",
       "      <td>34.0</td>\n",
       "    </tr>\n",
       "    <tr>\n",
       "      <th>ID</th>\n",
       "      <td>214200.0</td>\n",
       "      <td>107099.500000</td>\n",
       "      <td>61834.358168</td>\n",
       "      <td>0.00</td>\n",
       "      <td>53549.750000</td>\n",
       "      <td>107099.5</td>\n",
       "      <td>160649.25</td>\n",
       "      <td>214199.0</td>\n",
       "    </tr>\n",
       "    <tr>\n",
       "      <th>target</th>\n",
       "      <td>10600939.0</td>\n",
       "      <td>0.287430</td>\n",
       "      <td>1.439041</td>\n",
       "      <td>0.00</td>\n",
       "      <td>0.000000</td>\n",
       "      <td>0.0</td>\n",
       "      <td>0.00</td>\n",
       "      <td>40.0</td>\n",
       "    </tr>\n",
       "    <tr>\n",
       "      <th>avg_price</th>\n",
       "      <td>10386739.0</td>\n",
       "      <td>679.921196</td>\n",
       "      <td>1384.068392</td>\n",
       "      <td>0.09</td>\n",
       "      <td>192.153846</td>\n",
       "      <td>299.0</td>\n",
       "      <td>699.00</td>\n",
       "      <td>49782.0</td>\n",
       "    </tr>\n",
       "  </tbody>\n",
       "</table>\n",
       "</div>"
      ],
      "text/plain": [
       "                     count           mean           std   min           25%  \\\n",
       "shop_id         10600939.0      31.228952     17.356838  0.00     16.000000   \n",
       "item_id         10600939.0   11255.688619   6213.204837  1.00   5871.000000   \n",
       "date_block_num  10600939.0      15.512365      9.798283  0.00      7.000000   \n",
       "ID                214200.0  107099.500000  61834.358168  0.00  53549.750000   \n",
       "target          10600939.0       0.287430      1.439041  0.00      0.000000   \n",
       "avg_price       10386739.0     679.921196   1384.068392  0.09    192.153846   \n",
       "\n",
       "                     50%        75%       max  \n",
       "shop_id             30.0      47.00      59.0  \n",
       "item_id          11342.0   16540.00   22169.0  \n",
       "date_block_num      15.0      23.00      34.0  \n",
       "ID              107099.5  160649.25  214199.0  \n",
       "target               0.0       0.00      40.0  \n",
       "avg_price          299.0     699.00   49782.0  "
      ]
     },
     "execution_count": 22,
     "metadata": {},
     "output_type": "execute_result"
    }
   ],
   "source": [
    "start_time = time.time()\n",
    "\n",
    "resDF['target'].fillna(0,inplace=True)\n",
    "# just a tip from discussion forum -- https://mlwhiz.com/blog/2017/12/26/win_a_data_science_competition/\n",
    "resDF['target']=resDF['target'].clip(0,40)\n",
    "\n",
    "# First get avg item price by month to fill empty places in price\n",
    "itemPrice= salesData.groupby(['item_id','date_block_num'],as_index=False).agg({'item_price':'mean'})\n",
    "itemPrice.columns=['item_id','date_block_num','avg_price_item']\n",
    "resDF['avg_price'][ resDF['avg_price'].isna() ]= resDF[ resDF['avg_price'].isna() ].merge(itemPrice,how='left',on=['item_id','date_block_num'])['avg_price_item'].values \n",
    "\n",
    "print(\"--- %s seconds ---\" % (time.time() - start_time))\n",
    "resDF.describe().T"
   ]
  },
  {
   "cell_type": "code",
   "execution_count": 23,
   "metadata": {},
   "outputs": [
    {
     "name": "stderr",
     "output_type": "stream",
     "text": [
      "C:\\Users\\Maks Konyaev\\Anaconda3\\lib\\site-packages\\ipykernel_launcher.py:4: SettingWithCopyWarning: \n",
      "A value is trying to be set on a copy of a slice from a DataFrame\n",
      "\n",
      "See the caveats in the documentation: http://pandas.pydata.org/pandas-docs/stable/indexing.html#indexing-view-versus-copy\n",
      "  after removing the cwd from sys.path.\n"
     ]
    }
   ],
   "source": [
    "# Now fill the remaining price lags with avg item price\n",
    "itemPrice= salesData.groupby(['item_id'],as_index=False).agg({'item_price':'mean'})\n",
    "itemPrice.columns=['item_id','avg_price_item']\n",
    "resDF['avg_price'][ resDF['avg_price'].isna() ] = resDF[ resDF['avg_price'].isna() ].merge(itemPrice,how='left',on=['item_id'])['avg_price_item'].values \n"
   ]
  },
  {
   "cell_type": "code",
   "execution_count": 24,
   "metadata": {},
   "outputs": [],
   "source": [
    "#Merging Data\n",
    "shops['shop_label']= shops['shop_name'].apply( lambda x: x.split(' ')[0])\n",
    "le = preprocessing.LabelEncoder()\n",
    "shops['shop_label']= le.fit_transform(shops['shop_label'])"
   ]
  },
  {
   "cell_type": "code",
   "execution_count": 25,
   "metadata": {},
   "outputs": [],
   "source": [
    "itemCategories['cat_label']= itemCategories['item_category_name'].apply(lambda x: x.split('-')[0].strip())\n",
    "itemCategories['cat_subLabel']= itemCategories['item_category_name'].apply(lambda x: x.split('-')[1].strip() if '-' in x else x.split('-')[0].strip())\n",
    "\n",
    "le = preprocessing.LabelEncoder()\n",
    "itemCategories['cat_label']= le.fit_transform(itemCategories['cat_label'])\n",
    "itemCategories['cat_subLabel']= le.fit_transform(itemCategories['cat_subLabel'])"
   ]
  },
  {
   "cell_type": "code",
   "execution_count": 26,
   "metadata": {},
   "outputs": [],
   "source": [
    "#TFIDF features\n",
    "\n",
    "#items_subset = items[['item_id', 'item_name']]\n",
    "#feature_count = 25\n",
    "#tfidf = TfidfVectorizer(max_features=feature_count)\n",
    "#items_df_item_name_text_features = pd.DataFrame(tfidf.fit_transform(items_subset['item_name']).toarray())\n",
    "\n",
    "#cols = items_df_item_name_text_features.columns\n",
    "#for i in range(feature_count):\n",
    "#    feature_name = 'item_name_tfidf_' + str(i)\n",
    "#    items_subset[feature_name] = items_df_item_name_text_features[cols[i]]\n",
    "\n",
    "#items_subset.drop('item_name', axis = 1, inplace = True)\n",
    "#resDF = resDF.merge(items_subset, on = 'item_id', how = 'left')"
   ]
  },
  {
   "cell_type": "code",
   "execution_count": 27,
   "metadata": {},
   "outputs": [],
   "source": [
    "resDF= resDF.merge(items[['item_id','item_category_id']],on=['item_id'],how='left')\n",
    "resDF= resDF.merge(itemCategories[['cat_label','cat_subLabel','item_category_id']],how='left',on=['item_category_id'])\n",
    "resDF= resDF.merge(shops[['shop_label','shop_id']],how='left',on=['shop_id'])"
   ]
  },
  {
   "cell_type": "code",
   "execution_count": 28,
   "metadata": {},
   "outputs": [],
   "source": [
    "#Mean Encoding\n",
    "meanEncodingCols =[\n",
    "    ( ['shop_id'],[1,2,3,6,12]),\n",
    "    ( ['item_id'],[1,2,3,6,12]),\n",
    "    ( ['item_category_id'],[1,2,3,6,12]),\n",
    "    (['item_id','shop_id'],[1,2,3,6,12]),\n",
    "    (['item_category_id','shop_id'],[1,2,3,6,12]),\n",
    "    (['cat_label'],[1]),\n",
    "    (['cat_label','item_id'],[1,2,3]),\n",
    "    (['cat_subLabel'],[1]),\n",
    "    (['shop_label'],[1])\n",
    "]"
   ]
  },
  {
   "cell_type": "code",
   "execution_count": 29,
   "metadata": {},
   "outputs": [],
   "source": [
    "#Just a function, I used to avoid writing redundant code of similar column names\n",
    "def generateGroupByFeatures(ipDF,groupCols,aggDict):\n",
    "    groupByAlias = {'item_id':'item','shop_id':'shop','item_category_id':'item_cat','date_block_num':'date',\n",
    "                    'month':'month','target':'target','cat_label':'cat_label','cat_subLabel':'cat_subLabel',\n",
    "                   'shop_label':'shop_label'}\n",
    "    aggColAlias= {'item_cnt_day':'cnt','item_price':'price','target':'target','avg_price':'price'}\n",
    "    \n",
    "    grpByName= '_'.join( [groupByAlias[x] for x in groupCols] )+'_'\n",
    "    colNameList=[]\n",
    "    \n",
    "    for aggCol,aggFnArr in aggDict.items():\n",
    "        for f in aggFnArr:\n",
    "            fName = f.__name__ if hasattr(f, '__call__') else f\n",
    "            colNameList.append( grpByName+aggColAlias[aggCol]+\"_\"+fName )\n",
    "    returnDF= ipDF.groupby(groupCols,as_index=False).agg(aggDict)\n",
    "    returnDF.columns= groupCols+colNameList\n",
    "    return returnDF"
   ]
  },
  {
   "cell_type": "code",
   "execution_count": 30,
   "metadata": {},
   "outputs": [],
   "source": [
    "for c in resDF.columns:\n",
    "    if 'int' in str(resDF[c].dtype):\n",
    "        resDF[c]= resDF[c].astype('Int32')\n",
    "        if resDF[c].max()<32000:\n",
    "            resDF[c]= resDF[c].astype('Int16')\n",
    "        if resDF[c].max()<120:\n",
    "            resDF[c]= resDF[c].astype('Int8')\n",
    "    if 'float' in str(resDF[c].dtype):\n",
    "        resDF[c]= resDF[c].astype('Float32')\n",
    "        if resDF[c].max()<65000:\n",
    "            resDF[c]= resDF[c].astype('Float16')"
   ]
  },
  {
   "cell_type": "code",
   "execution_count": 31,
   "metadata": {},
   "outputs": [],
   "source": [
    "#Price related Features\n",
    "grpByItem= generateGroupByFeatures(salesData,['item_id'],{'item_price':['min','max',np.var]})\n",
    "grpByItem['historic_price_shift']= (grpByItem['item_price_max']-grpByItem['item_price_min'])/grpByItem['item_price_max']\n",
    "grpByItem.drop(['item_price_max','item_price_min'],axis=1,inplace=True)\n",
    "resDF= resDF.merge(grpByItem,how='left',on=['item_id'])"
   ]
  },
  {
   "cell_type": "code",
   "execution_count": null,
   "metadata": {},
   "outputs": [],
   "source": [
    "#Lag features\n",
    "start_time = time.time()\n",
    "\n",
    "for m in meanEncodingCols:\n",
    "    grpCols= m[0]\n",
    "    lagArr= m[1]\n",
    "    \n",
    "    tmpDF= resDF.copy()\n",
    "    grpCols= grpCols+['date_block_num']\n",
    "    groupDF= generateGroupByFeatures(tmpDF,grpCols,{'target':['mean']})\n",
    "    tmpDF= tmpDF.merge(groupDF,how='left',on= grpCols)\n",
    "    \n",
    "    # mean encoded column\n",
    "    meanEncodedColName= [c for c in groupDF.columns if 'target_mean' in c]\n",
    "    assert len(meanEncodedColName)==1\n",
    "    meanEncodedColName= meanEncodedColName[0]\n",
    "    \n",
    "    for lag in lagArr:\n",
    "        shiftedDF= tmpDF[['item_id','shop_id','date_block_num',meanEncodedColName]].copy()\n",
    "        shiftedDF['date_block_num']= shiftedDF['date_block_num']+lag\n",
    "        \n",
    "        lagColName= meanEncodedColName+\"_lag_\"+str(lag)\n",
    "        shiftedDF.rename({meanEncodedColName:lagColName},axis=1,inplace=True)\n",
    "        \n",
    "        resDF= resDF.merge(shiftedDF,how='left',on=['item_id','shop_id','date_block_num'])\n",
    "        del shiftedDF\n",
    "    del tmpDF\n",
    "\n",
    "print(\"--- %s seconds ---\" % (time.time() - start_time))"
   ]
  },
  {
   "cell_type": "code",
   "execution_count": null,
   "metadata": {},
   "outputs": [],
   "source": [
    "#Price lag of item and item_categories\n",
    "start_time = time.time()\n",
    "\n",
    "for lag in [1,2,3]:\n",
    "    tmpDF= resDF[['item_id','date_block_num','avg_price']].copy()\n",
    "    tmpDF['date_block_num']+= lag\n",
    "    tmpGrpByItem= tmpDF.groupby(['item_id','date_block_num'],as_index=False).agg({'avg_price':['mean']})\n",
    "    tmpGrpByItem.columns= ['item_id','date_block_num','item_price_lag'+str(lag)]\n",
    "    \n",
    "    resDF= resDF.merge(tmpGrpByItem,how='left',on=['item_id','date_block_num'])\n",
    "    del tmpGrpByItem\n",
    "    del tmpDF\n",
    "\n",
    "print(\"--- %s seconds ---\" % (time.time() - start_time))"
   ]
  },
  {
   "cell_type": "code",
   "execution_count": null,
   "metadata": {},
   "outputs": [],
   "source": [
    "start_time = time.time()\n",
    "\n",
    "for lag in [1,2,3]:\n",
    "    tmpDF= resDF[['item_category_id','date_block_num','avg_price']].copy()\n",
    "    tmpDF['date_block_num']+= lag\n",
    "    tmpGrpByItem= tmpDF.groupby(['item_category_id','date_block_num'],as_index=False).agg({'avg_price':['mean']})\n",
    "    tmpGrpByItem.columns= ['item_category_id','date_block_num','item_cat_price_lag'+str(lag)]\n",
    "    \n",
    "    resDF= resDF.merge(tmpGrpByItem,how='left',on=['item_category_id','date_block_num'])\n",
    "    del tmpGrpByItem\n",
    "    del tmpDF\n",
    "    \n",
    "print(\"--- %s seconds ---\" % (time.time() - start_time))"
   ]
  },
  {
   "cell_type": "code",
   "execution_count": null,
   "metadata": {},
   "outputs": [],
   "source": [
    "#Fill empty lag sales values with 0\n",
    "\n",
    "for col in resDF.columns:\n",
    "    if 'price' not in col and ( resDF[col].isnull().any() ):\n",
    "        resDF[col].fillna(0, inplace=True)"
   ]
  },
  {
   "cell_type": "code",
   "execution_count": null,
   "metadata": {},
   "outputs": [],
   "source": [
    "#Fill empty lag price values with median\n",
    "\n",
    "for col in resDF.columns:\n",
    "    if 'price' in col:\n",
    "        resDF[col]= resDF[col].fillna(resDF[col].median())\n",
    "gc.collect()"
   ]
  },
  {
   "cell_type": "code",
   "execution_count": null,
   "metadata": {},
   "outputs": [],
   "source": [
    "#Save the model\n",
    "resDF.to_pickle('data.pkl')"
   ]
  },
  {
   "cell_type": "code",
   "execution_count": null,
   "metadata": {},
   "outputs": [],
   "source": [
    "resDF = pd.read_pickle(\"data.pkl\")"
   ]
  },
  {
   "cell_type": "code",
   "execution_count": null,
   "metadata": {},
   "outputs": [],
   "source": []
  },
  {
   "cell_type": "code",
   "execution_count": null,
   "metadata": {},
   "outputs": [],
   "source": [
    "#Create month and days feature\n",
    "#days = {0 : 31, 1: 28, 2: 31, 3: 30, 4: 31,5: 30,6: 31,7: 31,8: 30,9: 31,10: 30, 11: 31}\n",
    "resDF['month']= resDF['date_block_num']%12\n",
    "#resDF['days']= resDF['month'].map(days)\n",
    "resDF=resDF[ resDF['date_block_num']>12 ]"
   ]
  },
  {
   "cell_type": "code",
   "execution_count": null,
   "metadata": {},
   "outputs": [],
   "source": [
    "#Here we are normalizing price values, and they are showing better performance according to my experiments\n",
    "\n",
    "for c in ['item_price_lag1', 'item_price_lag2','item_price_lag3']:\n",
    "    resDF[c+'_diff']= resDF[c]/resDF['avg_price']\n",
    "    resDF.drop([c],axis=1,inplace=True)\n"
   ]
  },
  {
   "cell_type": "code",
   "execution_count": null,
   "metadata": {},
   "outputs": [],
   "source": [
    "resDF.describe().T"
   ]
  },
  {
   "cell_type": "code",
   "execution_count": null,
   "metadata": {},
   "outputs": [],
   "source": [
    "for c in resDF.columns:\n",
    "    if 'int' in str(resDF[c].dtype).lower():\n",
    "        resDF[c]= resDF[c].astype('int32')\n",
    "    if 'float' in str(resDF[c].dtype).lower():\n",
    "        resDF[c]= resDF[c].astype('float32')"
   ]
  },
  {
   "cell_type": "code",
   "execution_count": null,
   "metadata": {},
   "outputs": [],
   "source": [
    "resDF.dtypes"
   ]
  },
  {
   "cell_type": "code",
   "execution_count": null,
   "metadata": {},
   "outputs": [],
   "source": [
    "start_time = time.time()\n",
    "\n",
    "X= resDF[resDF['date_block_num']<33]\n",
    "Y= X['target']\n",
    "X.drop(['target'],axis=1,inplace=True)\n",
    "\n",
    "X_val= resDF[(resDF['date_block_num']==33)&(resDF['target']==0)]\n",
    "Y_val= X_val['target']\n",
    "X_val.drop(['target'],axis=1,inplace=True)\n",
    "\n",
    "X_val_1= resDF[(resDF['date_block_num']==33)&(resDF['target']!=0)]\n",
    "Y_val_1= X_val_1['target']\n",
    "X_val_1.drop(['target'],axis=1,inplace=True)"
   ]
  },
  {
   "cell_type": "code",
   "execution_count": null,
   "metadata": {},
   "outputs": [],
   "source": [
    "model = pickle.load(open(\"tree.dat\", 'rb'))"
   ]
  },
  {
   "cell_type": "code",
   "execution_count": null,
   "metadata": {},
   "outputs": [],
   "source": [
    "model = xgb.XGBRegressor(max_depth=6 ,\n",
    "    n_estimators=300,\n",
    "    #random_state = 0,\n",
    "    #min_samples_split = 20,\n",
    "    min_child_weight=20, \n",
    "    colsample_bytree=0.6,\n",
    "    seed=42,\n",
    "    n_jobs=-1)\n",
    "\n",
    "model.fit(X,Y,\n",
    "          eval_metric=\"rmse\", \n",
    "          eval_set=[(X,Y),(X_val, Y_val),(X_val_1, Y_val_1)],\n",
    "          verbose=20,\n",
    "          early_stopping_rounds=10\n",
    "         )\n",
    "\n",
    "print(\"--- %s seconds ---\" % (time.time() - start_time))\n",
    "\n",
    "pickle.dump(model, open(\"tree.dat\", \"wb\"))"
   ]
  },
  {
   "cell_type": "code",
   "execution_count": null,
   "metadata": {},
   "outputs": [],
   "source": [
    "#Linear Regression\n",
    "start_time = time.time()\n",
    "\n",
    "\n",
    "X= resDF[resDF['date_block_num']<33]\n",
    "Y= X['target']\n",
    "X.drop(['target'],axis=1,inplace=True)\n",
    "\n",
    "X_val= resDF[(resDF['date_block_num']==33)]\n",
    "Y_val= X_val['target']\n",
    "X_val.drop(['target'],axis=1,inplace=True)\n",
    "\n",
    "lr = LinearRegression(n_jobs=-1)\n",
    "\n",
    "lr.fit(X.values, Y.values)\n",
    "\n",
    "print(\"--- %s seconds ---\" % (time.time() - start_time))\n",
    "\n",
    "pickle.dump(lr, open(\"lr.pickle.dat\", \"wb\"))"
   ]
  },
  {
   "cell_type": "code",
   "execution_count": null,
   "metadata": {},
   "outputs": [],
   "source": [
    "#Ensembling\n",
    "X_train= resDF[resDF['date_block_num']<33].drop(['target'],axis=1)\n",
    "X_test= resDF[resDF['date_block_num']==34].drop(['target'],axis=1)\n",
    "X_val= resDF[resDF['date_block_num']==33].drop(['target'],axis=1)\n",
    "\n",
    "Y_train= resDF[resDF['date_block_num']<33]['target']\n",
    "Y_val= resDF[resDF['date_block_num']==33]['target']\n",
    "\n",
    "treeModel = model;lrModel= lr;"
   ]
  },
  {
   "cell_type": "code",
   "execution_count": null,
   "metadata": {},
   "outputs": [],
   "source": [
    "meta_xg_train= treeModel.predict(X_train)\n",
    "meta_lr_train= lrModel.predict(X_train)\n",
    "\n",
    "meta_xg_val= treeModel.predict(X_val)\n",
    "meta_lr_val= lrModel.predict(X_val)\n",
    "\n",
    "meta_xg_test= treeModel.predict(X_test)\n",
    "meta_lr_test= lrModel.predict(X_test)\n",
    "\n",
    "metaTrain= np.c_[meta_xg_train,meta_lr_train]\n",
    "print(metaTrain.shape,Y_train.shape)\n",
    "\n",
    "metaVal= np.c_[meta_xg_val,meta_lr_val]\n",
    "print(metaVal.shape,Y_val.shape)\n",
    "\n",
    "metaTest= np.c_[meta_xg_test,meta_lr_test]\n",
    "print(metaTest.shape)"
   ]
  },
  {
   "cell_type": "code",
   "execution_count": null,
   "metadata": {},
   "outputs": [],
   "source": [
    "lr= LinearRegression(n_jobs=-1)\n",
    "lr.fit(metaTrain,Y_train.values)\n",
    "\n",
    "metaVal= np.c_[meta_xg_val,meta_lr_val]\n",
    "Y_train_pred= lr.predict(metaTrain)\n",
    "Y_val_pred= lr.predict(metaVal)\n",
    "\n",
    "\n",
    "print(np.sqrt(mean_squared_error(Y_val_pred,Y_val.values)))\n",
    "print(np.sqrt(mean_squared_error(Y_train_pred,Y_train.values)))"
   ]
  },
  {
   "cell_type": "code",
   "execution_count": null,
   "metadata": {},
   "outputs": [],
   "source": [
    "drop_cols= [ 'target']\n",
    "testDF = resDF[ resDF['date_block_num']==34]\n",
    "testDF['target']= lr.predict(metaTest)\n",
    "\n",
    "submission = pd.DataFrame({\n",
    "    \"ID\": testDF['ID'], \n",
    "    \"item_cnt_month\": testDF['target'].clip(0,20)\n",
    "})\n",
    "submission['ID']= submission['ID'].astype(np.int32)\n",
    "submission.to_csv('submission.csv', index=False)"
   ]
  },
  {
   "cell_type": "code",
   "execution_count": null,
   "metadata": {},
   "outputs": [],
   "source": []
  },
  {
   "cell_type": "code",
   "execution_count": null,
   "metadata": {},
   "outputs": [],
   "source": []
  }
 ],
 "metadata": {
  "kernelspec": {
   "display_name": "Python 3",
   "language": "python",
   "name": "python3"
  },
  "language_info": {
   "codemirror_mode": {
    "name": "ipython",
    "version": 3
   },
   "file_extension": ".py",
   "mimetype": "text/x-python",
   "name": "python",
   "nbconvert_exporter": "python",
   "pygments_lexer": "ipython3",
   "version": "3.7.3"
  }
 },
 "nbformat": 4,
 "nbformat_minor": 4
}
