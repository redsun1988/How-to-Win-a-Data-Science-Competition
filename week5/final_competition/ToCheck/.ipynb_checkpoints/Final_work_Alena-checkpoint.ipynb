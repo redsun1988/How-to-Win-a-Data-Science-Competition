{
 "cells": [
  {
   "cell_type": "code",
   "execution_count": 1,
   "metadata": {
    "ExecuteTime": {
     "end_time": "2019-11-02T08:13:51.134485Z",
     "start_time": "2019-11-02T08:13:49.838483Z"
    },
    "_cell_guid": "b1076dfc-b9ad-4769-8c92-a6c4dae69d19",
    "_uuid": "8f2839f25d086af736a60e9eeb907d3b93b6e0e5"
   },
   "outputs": [],
   "source": [
    "import seaborn as sns\n",
    "%matplotlib inline\n",
    "import pandas as pd\n",
    "import numpy as np\n",
    "import gc\n",
    "import matplotlib.pyplot as plt\n",
    "%matplotlib inline \n",
    "\n",
    "pd.set_option('display.max_rows', 80)\n",
    "pd.set_option('display.max_columns', 50)\n",
    "\n",
    "from sklearn.linear_model import LinearRegression\n",
    "from sklearn.neighbors import KNeighborsRegressor\n",
    "from sklearn.preprocessing import LabelEncoder, StandardScaler\n",
    "from sklearn.metrics import r2_score, mean_squared_error\n",
    "from tqdm import tqdm_notebook\n",
    "from catboost import CatBoostRegressor\n",
    "\n",
    "from itertools import product\n",
    "import sklearn\n",
    "import scipy.sparse \n",
    "import lightgbm \n",
    "\n",
    "import warnings\n",
    "warnings.filterwarnings(\"ignore\")"
   ]
  },
  {
   "cell_type": "markdown",
   "metadata": {},
   "source": [
    "# EDA"
   ]
  },
  {
   "cell_type": "markdown",
   "metadata": {},
   "source": [
    "Import data"
   ]
  },
  {
   "cell_type": "code",
   "execution_count": 6,
   "metadata": {
    "ExecuteTime": {
     "end_time": "2019-11-02T08:13:57.097739Z",
     "start_time": "2019-11-02T08:13:54.668240Z"
    }
   },
   "outputs": [],
   "source": [
    "items = pd.read_csv('data/items.csv')\n",
    "shops = pd.read_csv('data/shops.csv')\n",
    "item_cats = pd.read_csv('data/item_categories.csv')\n",
    "sales = pd.read_csv('data/sales_train_v2.csv')\n",
    "\n",
    "test = pd.read_csv('data/test.csv', index_col=['ID'])\n",
    "test['date_block_num'] = 34\n",
    "all_data = pd.concat([sales, test], axis=0)"
   ]
  },
  {
   "cell_type": "markdown",
   "metadata": {},
   "source": [
    "Let's check the target for outliners"
   ]
  },
  {
   "cell_type": "code",
   "execution_count": 7,
   "metadata": {
    "ExecuteTime": {
     "end_time": "2019-11-02T08:14:00.198953Z",
     "start_time": "2019-11-02T08:13:57.527591Z"
    }
   },
   "outputs": [
    {
     "data": {
      "image/png": "[encoded data removed]",
      "text/plain": [
       "<Figure size 720x288 with 1 Axes>"
      ]
     },
     "metadata": {
      "needs_background": "light"
     },
     "output_type": "display_data"
    },
    {
     "data": {
      "image/png": "[encoded data removed]",
      "text/plain": [
       "<Figure size 720x288 with 1 Axes>"
      ]
     },
     "metadata": {
      "needs_background": "light"
     },
     "output_type": "display_data"
    }
   ],
   "source": [
    "plt.figure(figsize=(10,4))\n",
    "plt.xlim(-100, 3000)\n",
    "sns.boxplot(x=sales.item_cnt_day)\n",
    "\n",
    "plt.figure(figsize=(10,4))\n",
    "plt.xlim(sales.item_price.min(), sales.item_price.max()*1.1)\n",
    "sns.boxplot(x=sales.item_price);"
   ]
  },
  {
   "cell_type": "markdown",
   "metadata": {},
   "source": [
    "We should remove outliners from train data"
   ]
  },
  {
   "cell_type": "code",
   "execution_count": 8,
   "metadata": {
    "ExecuteTime": {
     "end_time": "2019-11-02T08:14:00.980860Z",
     "start_time": "2019-11-02T08:14:00.566969Z"
    }
   },
   "outputs": [],
   "source": [
    "sales = sales[sales.item_cnt_day < 2000]\n",
    "sales = sales[sales.item_price < 300000]"
   ]
  },
  {
   "cell_type": "markdown",
   "metadata": {},
   "source": [
    "We have many position, where amount of sold items less then zero. This is the return of the items. We ill cast such positions to zero."
   ]
  },
  {
   "cell_type": "code",
   "execution_count": 9,
   "metadata": {
    "ExecuteTime": {
     "end_time": "2019-11-02T08:14:01.430662Z",
     "start_time": "2019-11-02T08:14:01.376802Z"
    }
   },
   "outputs": [
    {
     "data": {
      "text/html": [
       "<div>\n",
       "<style scoped>\n",
       "    .dataframe tbody tr th:only-of-type {\n",
       "        vertical-align: middle;\n",
       "    }\n",
       "\n",
       "    .dataframe tbody tr th {\n",
       "        vertical-align: top;\n",
       "    }\n",
       "\n",
       "    .dataframe thead th {\n",
       "        text-align: right;\n",
       "    }\n",
       "</style>\n",
       "<table border=\"1\" class=\"dataframe\">\n",
       "  <thead>\n",
       "    <tr style=\"text-align: right;\">\n",
       "      <th></th>\n",
       "      <th>date</th>\n",
       "      <th>date_block_num</th>\n",
       "      <th>shop_id</th>\n",
       "      <th>item_id</th>\n",
       "      <th>item_price</th>\n",
       "      <th>item_cnt_day</th>\n",
       "    </tr>\n",
       "  </thead>\n",
       "  <tbody>\n",
       "    <tr>\n",
       "      <th>2</th>\n",
       "      <td>05.01.2013</td>\n",
       "      <td>0</td>\n",
       "      <td>25</td>\n",
       "      <td>2552</td>\n",
       "      <td>899.00</td>\n",
       "      <td>-1.0</td>\n",
       "    </tr>\n",
       "    <tr>\n",
       "      <th>148</th>\n",
       "      <td>23.01.2013</td>\n",
       "      <td>0</td>\n",
       "      <td>25</td>\n",
       "      <td>2321</td>\n",
       "      <td>999.00</td>\n",
       "      <td>-1.0</td>\n",
       "    </tr>\n",
       "    <tr>\n",
       "      <th>175</th>\n",
       "      <td>07.01.2013</td>\n",
       "      <td>0</td>\n",
       "      <td>25</td>\n",
       "      <td>2199</td>\n",
       "      <td>1449.00</td>\n",
       "      <td>-1.0</td>\n",
       "    </tr>\n",
       "    <tr>\n",
       "      <th>807</th>\n",
       "      <td>02.01.2013</td>\n",
       "      <td>0</td>\n",
       "      <td>25</td>\n",
       "      <td>2330</td>\n",
       "      <td>599.00</td>\n",
       "      <td>-1.0</td>\n",
       "    </tr>\n",
       "    <tr>\n",
       "      <th>1041</th>\n",
       "      <td>13.01.2013</td>\n",
       "      <td>0</td>\n",
       "      <td>25</td>\n",
       "      <td>5034</td>\n",
       "      <td>1989.00</td>\n",
       "      <td>-1.0</td>\n",
       "    </tr>\n",
       "    <tr>\n",
       "      <th>1193</th>\n",
       "      <td>02.01.2013</td>\n",
       "      <td>0</td>\n",
       "      <td>25</td>\n",
       "      <td>5651</td>\n",
       "      <td>5490.00</td>\n",
       "      <td>-1.0</td>\n",
       "    </tr>\n",
       "    <tr>\n",
       "      <th>1674</th>\n",
       "      <td>07.01.2013</td>\n",
       "      <td>0</td>\n",
       "      <td>25</td>\n",
       "      <td>4093</td>\n",
       "      <td>899.00</td>\n",
       "      <td>-1.0</td>\n",
       "    </tr>\n",
       "    <tr>\n",
       "      <th>1825</th>\n",
       "      <td>02.01.2013</td>\n",
       "      <td>0</td>\n",
       "      <td>25</td>\n",
       "      <td>4249</td>\n",
       "      <td>1894.87</td>\n",
       "      <td>-1.0</td>\n",
       "    </tr>\n",
       "    <tr>\n",
       "      <th>2411</th>\n",
       "      <td>14.01.2013</td>\n",
       "      <td>0</td>\n",
       "      <td>24</td>\n",
       "      <td>1628</td>\n",
       "      <td>3899.00</td>\n",
       "      <td>-1.0</td>\n",
       "    </tr>\n",
       "    <tr>\n",
       "      <th>3216</th>\n",
       "      <td>08.01.2013</td>\n",
       "      <td>0</td>\n",
       "      <td>24</td>\n",
       "      <td>20948</td>\n",
       "      <td>899.00</td>\n",
       "      <td>-1.0</td>\n",
       "    </tr>\n",
       "    <tr>\n",
       "      <th>3386</th>\n",
       "      <td>20.01.2013</td>\n",
       "      <td>0</td>\n",
       "      <td>24</td>\n",
       "      <td>11756</td>\n",
       "      <td>169.00</td>\n",
       "      <td>-1.0</td>\n",
       "    </tr>\n",
       "    <tr>\n",
       "      <th>3447</th>\n",
       "      <td>20.01.2013</td>\n",
       "      <td>0</td>\n",
       "      <td>24</td>\n",
       "      <td>9547</td>\n",
       "      <td>149.00</td>\n",
       "      <td>-1.0</td>\n",
       "    </tr>\n",
       "    <tr>\n",
       "      <th>3492</th>\n",
       "      <td>12.01.2013</td>\n",
       "      <td>0</td>\n",
       "      <td>24</td>\n",
       "      <td>10097</td>\n",
       "      <td>699.00</td>\n",
       "      <td>-1.0</td>\n",
       "    </tr>\n",
       "    <tr>\n",
       "      <th>3532</th>\n",
       "      <td>07.01.2013</td>\n",
       "      <td>0</td>\n",
       "      <td>24</td>\n",
       "      <td>15146</td>\n",
       "      <td>299.00</td>\n",
       "      <td>-1.0</td>\n",
       "    </tr>\n",
       "    <tr>\n",
       "      <th>3743</th>\n",
       "      <td>07.01.2013</td>\n",
       "      <td>0</td>\n",
       "      <td>24</td>\n",
       "      <td>14221</td>\n",
       "      <td>299.00</td>\n",
       "      <td>-1.0</td>\n",
       "    </tr>\n",
       "    <tr>\n",
       "      <th>4309</th>\n",
       "      <td>11.01.2013</td>\n",
       "      <td>0</td>\n",
       "      <td>25</td>\n",
       "      <td>12738</td>\n",
       "      <td>1499.00</td>\n",
       "      <td>-1.0</td>\n",
       "    </tr>\n",
       "    <tr>\n",
       "      <th>4675</th>\n",
       "      <td>11.01.2013</td>\n",
       "      <td>0</td>\n",
       "      <td>25</td>\n",
       "      <td>12858</td>\n",
       "      <td>1599.00</td>\n",
       "      <td>-1.0</td>\n",
       "    </tr>\n",
       "    <tr>\n",
       "      <th>4811</th>\n",
       "      <td>11.01.2013</td>\n",
       "      <td>0</td>\n",
       "      <td>25</td>\n",
       "      <td>17084</td>\n",
       "      <td>1199.00</td>\n",
       "      <td>-1.0</td>\n",
       "    </tr>\n",
       "    <tr>\n",
       "      <th>4927</th>\n",
       "      <td>20.01.2013</td>\n",
       "      <td>0</td>\n",
       "      <td>25</td>\n",
       "      <td>16746</td>\n",
       "      <td>399.00</td>\n",
       "      <td>-1.0</td>\n",
       "    </tr>\n",
       "    <tr>\n",
       "      <th>4950</th>\n",
       "      <td>11.01.2013</td>\n",
       "      <td>0</td>\n",
       "      <td>25</td>\n",
       "      <td>17790</td>\n",
       "      <td>1599.00</td>\n",
       "      <td>-1.0</td>\n",
       "    </tr>\n",
       "    <tr>\n",
       "      <th>5108</th>\n",
       "      <td>11.01.2013</td>\n",
       "      <td>0</td>\n",
       "      <td>25</td>\n",
       "      <td>17318</td>\n",
       "      <td>1249.50</td>\n",
       "      <td>-1.0</td>\n",
       "    </tr>\n",
       "    <tr>\n",
       "      <th>5505</th>\n",
       "      <td>14.01.2013</td>\n",
       "      <td>0</td>\n",
       "      <td>25</td>\n",
       "      <td>16451</td>\n",
       "      <td>499.00</td>\n",
       "      <td>-1.0</td>\n",
       "    </tr>\n",
       "    <tr>\n",
       "      <th>6251</th>\n",
       "      <td>02.01.2013</td>\n",
       "      <td>0</td>\n",
       "      <td>25</td>\n",
       "      <td>6241</td>\n",
       "      <td>1199.00</td>\n",
       "      <td>-1.0</td>\n",
       "    </tr>\n",
       "    <tr>\n",
       "      <th>7139</th>\n",
       "      <td>11.01.2013</td>\n",
       "      <td>0</td>\n",
       "      <td>25</td>\n",
       "      <td>9977</td>\n",
       "      <td>1199.00</td>\n",
       "      <td>-1.0</td>\n",
       "    </tr>\n",
       "    <tr>\n",
       "      <th>7174</th>\n",
       "      <td>03.01.2013</td>\n",
       "      <td>0</td>\n",
       "      <td>25</td>\n",
       "      <td>9511</td>\n",
       "      <td>149.00</td>\n",
       "      <td>-1.0</td>\n",
       "    </tr>\n",
       "    <tr>\n",
       "      <th>7277</th>\n",
       "      <td>26.01.2013</td>\n",
       "      <td>0</td>\n",
       "      <td>25</td>\n",
       "      <td>9696</td>\n",
       "      <td>549.00</td>\n",
       "      <td>-1.0</td>\n",
       "    </tr>\n",
       "    <tr>\n",
       "      <th>7576</th>\n",
       "      <td>03.01.2013</td>\n",
       "      <td>0</td>\n",
       "      <td>19</td>\n",
       "      <td>19989</td>\n",
       "      <td>2499.00</td>\n",
       "      <td>-1.0</td>\n",
       "    </tr>\n",
       "    <tr>\n",
       "      <th>7666</th>\n",
       "      <td>08.01.2013</td>\n",
       "      <td>0</td>\n",
       "      <td>19</td>\n",
       "      <td>17526</td>\n",
       "      <td>199.00</td>\n",
       "      <td>-1.0</td>\n",
       "    </tr>\n",
       "    <tr>\n",
       "      <th>7720</th>\n",
       "      <td>15.01.2013</td>\n",
       "      <td>0</td>\n",
       "      <td>19</td>\n",
       "      <td>19362</td>\n",
       "      <td>1998.50</td>\n",
       "      <td>-1.0</td>\n",
       "    </tr>\n",
       "    <tr>\n",
       "      <th>7894</th>\n",
       "      <td>01.01.2013</td>\n",
       "      <td>0</td>\n",
       "      <td>19</td>\n",
       "      <td>20383</td>\n",
       "      <td>1229.00</td>\n",
       "      <td>-1.0</td>\n",
       "    </tr>\n",
       "    <tr>\n",
       "      <th>8008</th>\n",
       "      <td>14.01.2013</td>\n",
       "      <td>0</td>\n",
       "      <td>19</td>\n",
       "      <td>15060</td>\n",
       "      <td>399.00</td>\n",
       "      <td>-1.0</td>\n",
       "    </tr>\n",
       "    <tr>\n",
       "      <th>8200</th>\n",
       "      <td>07.01.2013</td>\n",
       "      <td>0</td>\n",
       "      <td>19</td>\n",
       "      <td>14231</td>\n",
       "      <td>149.00</td>\n",
       "      <td>-1.0</td>\n",
       "    </tr>\n",
       "    <tr>\n",
       "      <th>8499</th>\n",
       "      <td>02.01.2013</td>\n",
       "      <td>0</td>\n",
       "      <td>22</td>\n",
       "      <td>5572</td>\n",
       "      <td>1590.00</td>\n",
       "      <td>-1.0</td>\n",
       "    </tr>\n",
       "    <tr>\n",
       "      <th>8974</th>\n",
       "      <td>11.01.2013</td>\n",
       "      <td>0</td>\n",
       "      <td>22</td>\n",
       "      <td>835</td>\n",
       "      <td>4600.00</td>\n",
       "      <td>-1.0</td>\n",
       "    </tr>\n",
       "    <tr>\n",
       "      <th>9508</th>\n",
       "      <td>02.01.2013</td>\n",
       "      <td>0</td>\n",
       "      <td>19</td>\n",
       "      <td>3851</td>\n",
       "      <td>899.00</td>\n",
       "      <td>-1.0</td>\n",
       "    </tr>\n",
       "    <tr>\n",
       "      <th>9693</th>\n",
       "      <td>07.01.2013</td>\n",
       "      <td>0</td>\n",
       "      <td>19</td>\n",
       "      <td>5031</td>\n",
       "      <td>1399.00</td>\n",
       "      <td>-1.0</td>\n",
       "    </tr>\n",
       "    <tr>\n",
       "      <th>10092</th>\n",
       "      <td>28.01.2013</td>\n",
       "      <td>0</td>\n",
       "      <td>19</td>\n",
       "      <td>804</td>\n",
       "      <td>240.00</td>\n",
       "      <td>-1.0</td>\n",
       "    </tr>\n",
       "    <tr>\n",
       "      <th>10229</th>\n",
       "      <td>02.01.2013</td>\n",
       "      <td>0</td>\n",
       "      <td>19</td>\n",
       "      <td>1953</td>\n",
       "      <td>899.00</td>\n",
       "      <td>-1.0</td>\n",
       "    </tr>\n",
       "    <tr>\n",
       "      <th>10459</th>\n",
       "      <td>13.01.2013</td>\n",
       "      <td>0</td>\n",
       "      <td>19</td>\n",
       "      <td>9000</td>\n",
       "      <td>5991.45</td>\n",
       "      <td>-1.0</td>\n",
       "    </tr>\n",
       "    <tr>\n",
       "      <th>10595</th>\n",
       "      <td>13.01.2013</td>\n",
       "      <td>0</td>\n",
       "      <td>19</td>\n",
       "      <td>12662</td>\n",
       "      <td>1999.00</td>\n",
       "      <td>-1.0</td>\n",
       "    </tr>\n",
       "    <tr>\n",
       "      <th>...</th>\n",
       "      <td>...</td>\n",
       "      <td>...</td>\n",
       "      <td>...</td>\n",
       "      <td>...</td>\n",
       "      <td>...</td>\n",
       "      <td>...</td>\n",
       "    </tr>\n",
       "    <tr>\n",
       "      <th>2916256</th>\n",
       "      <td>16.10.2015</td>\n",
       "      <td>33</td>\n",
       "      <td>6</td>\n",
       "      <td>3352</td>\n",
       "      <td>2999.00</td>\n",
       "      <td>-1.0</td>\n",
       "    </tr>\n",
       "    <tr>\n",
       "      <th>2916639</th>\n",
       "      <td>04.10.2015</td>\n",
       "      <td>33</td>\n",
       "      <td>3</td>\n",
       "      <td>4244</td>\n",
       "      <td>1299.00</td>\n",
       "      <td>-1.0</td>\n",
       "    </tr>\n",
       "    <tr>\n",
       "      <th>2916799</th>\n",
       "      <td>04.10.2015</td>\n",
       "      <td>33</td>\n",
       "      <td>3</td>\n",
       "      <td>3556</td>\n",
       "      <td>1299.00</td>\n",
       "      <td>-1.0</td>\n",
       "    </tr>\n",
       "    <tr>\n",
       "      <th>2917848</th>\n",
       "      <td>04.10.2015</td>\n",
       "      <td>33</td>\n",
       "      <td>3</td>\n",
       "      <td>7883</td>\n",
       "      <td>398.00</td>\n",
       "      <td>-1.0</td>\n",
       "    </tr>\n",
       "    <tr>\n",
       "      <th>2918221</th>\n",
       "      <td>14.10.2015</td>\n",
       "      <td>33</td>\n",
       "      <td>9</td>\n",
       "      <td>18103</td>\n",
       "      <td>3799.00</td>\n",
       "      <td>-1.0</td>\n",
       "    </tr>\n",
       "    <tr>\n",
       "      <th>2918395</th>\n",
       "      <td>04.10.2015</td>\n",
       "      <td>33</td>\n",
       "      <td>9</td>\n",
       "      <td>21036</td>\n",
       "      <td>1899.00</td>\n",
       "      <td>-1.0</td>\n",
       "    </tr>\n",
       "    <tr>\n",
       "      <th>2919101</th>\n",
       "      <td>15.10.2015</td>\n",
       "      <td>33</td>\n",
       "      <td>12</td>\n",
       "      <td>1971</td>\n",
       "      <td>3598.00</td>\n",
       "      <td>-1.0</td>\n",
       "    </tr>\n",
       "    <tr>\n",
       "      <th>2919263</th>\n",
       "      <td>26.10.2015</td>\n",
       "      <td>33</td>\n",
       "      <td>12</td>\n",
       "      <td>5488</td>\n",
       "      <td>2799.00</td>\n",
       "      <td>-1.0</td>\n",
       "    </tr>\n",
       "    <tr>\n",
       "      <th>2919311</th>\n",
       "      <td>13.10.2015</td>\n",
       "      <td>33</td>\n",
       "      <td>12</td>\n",
       "      <td>5041</td>\n",
       "      <td>3499.00</td>\n",
       "      <td>-1.0</td>\n",
       "    </tr>\n",
       "    <tr>\n",
       "      <th>2920957</th>\n",
       "      <td>04.10.2015</td>\n",
       "      <td>33</td>\n",
       "      <td>7</td>\n",
       "      <td>7834</td>\n",
       "      <td>799.00</td>\n",
       "      <td>-1.0</td>\n",
       "    </tr>\n",
       "    <tr>\n",
       "      <th>2921035</th>\n",
       "      <td>14.10.2015</td>\n",
       "      <td>33</td>\n",
       "      <td>7</td>\n",
       "      <td>16179</td>\n",
       "      <td>2499.00</td>\n",
       "      <td>-1.0</td>\n",
       "    </tr>\n",
       "    <tr>\n",
       "      <th>2921261</th>\n",
       "      <td>07.10.2015</td>\n",
       "      <td>33</td>\n",
       "      <td>7</td>\n",
       "      <td>3351</td>\n",
       "      <td>3999.00</td>\n",
       "      <td>-1.0</td>\n",
       "    </tr>\n",
       "    <tr>\n",
       "      <th>2921586</th>\n",
       "      <td>02.10.2015</td>\n",
       "      <td>33</td>\n",
       "      <td>7</td>\n",
       "      <td>4415</td>\n",
       "      <td>1500.00</td>\n",
       "      <td>-1.0</td>\n",
       "    </tr>\n",
       "    <tr>\n",
       "      <th>2922502</th>\n",
       "      <td>02.10.2015</td>\n",
       "      <td>33</td>\n",
       "      <td>26</td>\n",
       "      <td>21363</td>\n",
       "      <td>3199.00</td>\n",
       "      <td>-1.0</td>\n",
       "    </tr>\n",
       "    <tr>\n",
       "      <th>2923221</th>\n",
       "      <td>26.10.2015</td>\n",
       "      <td>33</td>\n",
       "      <td>28</td>\n",
       "      <td>5656</td>\n",
       "      <td>5990.00</td>\n",
       "      <td>-1.0</td>\n",
       "    </tr>\n",
       "    <tr>\n",
       "      <th>2923357</th>\n",
       "      <td>20.10.2015</td>\n",
       "      <td>33</td>\n",
       "      <td>28</td>\n",
       "      <td>7230</td>\n",
       "      <td>699.00</td>\n",
       "      <td>-1.0</td>\n",
       "    </tr>\n",
       "    <tr>\n",
       "      <th>2923403</th>\n",
       "      <td>27.10.2015</td>\n",
       "      <td>33</td>\n",
       "      <td>28</td>\n",
       "      <td>7223</td>\n",
       "      <td>3999.00</td>\n",
       "      <td>-1.0</td>\n",
       "    </tr>\n",
       "    <tr>\n",
       "      <th>2923865</th>\n",
       "      <td>03.10.2015</td>\n",
       "      <td>33</td>\n",
       "      <td>25</td>\n",
       "      <td>21256</td>\n",
       "      <td>1299.00</td>\n",
       "      <td>-1.0</td>\n",
       "    </tr>\n",
       "    <tr>\n",
       "      <th>2924293</th>\n",
       "      <td>03.10.2015</td>\n",
       "      <td>33</td>\n",
       "      <td>25</td>\n",
       "      <td>18125</td>\n",
       "      <td>249.00</td>\n",
       "      <td>-1.0</td>\n",
       "    </tr>\n",
       "    <tr>\n",
       "      <th>2924406</th>\n",
       "      <td>02.10.2015</td>\n",
       "      <td>33</td>\n",
       "      <td>26</td>\n",
       "      <td>10513</td>\n",
       "      <td>1499.00</td>\n",
       "      <td>-1.0</td>\n",
       "    </tr>\n",
       "    <tr>\n",
       "      <th>2924442</th>\n",
       "      <td>02.10.2015</td>\n",
       "      <td>33</td>\n",
       "      <td>26</td>\n",
       "      <td>10352</td>\n",
       "      <td>4849.00</td>\n",
       "      <td>-1.0</td>\n",
       "    </tr>\n",
       "    <tr>\n",
       "      <th>2926713</th>\n",
       "      <td>23.10.2015</td>\n",
       "      <td>33</td>\n",
       "      <td>31</td>\n",
       "      <td>9313</td>\n",
       "      <td>349.00</td>\n",
       "      <td>-1.0</td>\n",
       "    </tr>\n",
       "    <tr>\n",
       "      <th>2926793</th>\n",
       "      <td>15.10.2015</td>\n",
       "      <td>33</td>\n",
       "      <td>31</td>\n",
       "      <td>10678</td>\n",
       "      <td>1499.00</td>\n",
       "      <td>-1.0</td>\n",
       "    </tr>\n",
       "    <tr>\n",
       "      <th>2926839</th>\n",
       "      <td>20.10.2015</td>\n",
       "      <td>33</td>\n",
       "      <td>31</td>\n",
       "      <td>10780</td>\n",
       "      <td>349.00</td>\n",
       "      <td>-1.0</td>\n",
       "    </tr>\n",
       "    <tr>\n",
       "      <th>2928586</th>\n",
       "      <td>22.10.2015</td>\n",
       "      <td>33</td>\n",
       "      <td>31</td>\n",
       "      <td>1523</td>\n",
       "      <td>799.00</td>\n",
       "      <td>-1.0</td>\n",
       "    </tr>\n",
       "    <tr>\n",
       "      <th>2929224</th>\n",
       "      <td>08.10.2015</td>\n",
       "      <td>33</td>\n",
       "      <td>21</td>\n",
       "      <td>16146</td>\n",
       "      <td>1799.00</td>\n",
       "      <td>-1.0</td>\n",
       "    </tr>\n",
       "    <tr>\n",
       "      <th>2929946</th>\n",
       "      <td>08.10.2015</td>\n",
       "      <td>33</td>\n",
       "      <td>25</td>\n",
       "      <td>1523</td>\n",
       "      <td>799.00</td>\n",
       "      <td>-1.0</td>\n",
       "    </tr>\n",
       "    <tr>\n",
       "      <th>2930269</th>\n",
       "      <td>06.10.2015</td>\n",
       "      <td>33</td>\n",
       "      <td>24</td>\n",
       "      <td>7039</td>\n",
       "      <td>299.00</td>\n",
       "      <td>-1.0</td>\n",
       "    </tr>\n",
       "    <tr>\n",
       "      <th>2931176</th>\n",
       "      <td>30.10.2015</td>\n",
       "      <td>33</td>\n",
       "      <td>22</td>\n",
       "      <td>8546</td>\n",
       "      <td>1299.00</td>\n",
       "      <td>-1.0</td>\n",
       "    </tr>\n",
       "    <tr>\n",
       "      <th>2932364</th>\n",
       "      <td>28.10.2015</td>\n",
       "      <td>33</td>\n",
       "      <td>25</td>\n",
       "      <td>13215</td>\n",
       "      <td>799.00</td>\n",
       "      <td>-1.0</td>\n",
       "    </tr>\n",
       "    <tr>\n",
       "      <th>2932589</th>\n",
       "      <td>05.10.2015</td>\n",
       "      <td>33</td>\n",
       "      <td>25</td>\n",
       "      <td>13476</td>\n",
       "      <td>7998.00</td>\n",
       "      <td>-1.0</td>\n",
       "    </tr>\n",
       "    <tr>\n",
       "      <th>2932636</th>\n",
       "      <td>16.10.2015</td>\n",
       "      <td>33</td>\n",
       "      <td>25</td>\n",
       "      <td>13400</td>\n",
       "      <td>18990.00</td>\n",
       "      <td>-1.0</td>\n",
       "    </tr>\n",
       "    <tr>\n",
       "      <th>2932721</th>\n",
       "      <td>28.10.2015</td>\n",
       "      <td>33</td>\n",
       "      <td>25</td>\n",
       "      <td>13304</td>\n",
       "      <td>799.00</td>\n",
       "      <td>-1.0</td>\n",
       "    </tr>\n",
       "    <tr>\n",
       "      <th>2933448</th>\n",
       "      <td>21.10.2015</td>\n",
       "      <td>33</td>\n",
       "      <td>25</td>\n",
       "      <td>16199</td>\n",
       "      <td>1999.00</td>\n",
       "      <td>-1.0</td>\n",
       "    </tr>\n",
       "    <tr>\n",
       "      <th>2933712</th>\n",
       "      <td>03.10.2015</td>\n",
       "      <td>33</td>\n",
       "      <td>25</td>\n",
       "      <td>14064</td>\n",
       "      <td>249.00</td>\n",
       "      <td>-1.0</td>\n",
       "    </tr>\n",
       "    <tr>\n",
       "      <th>2934243</th>\n",
       "      <td>26.10.2015</td>\n",
       "      <td>33</td>\n",
       "      <td>25</td>\n",
       "      <td>3917</td>\n",
       "      <td>449.00</td>\n",
       "      <td>-1.0</td>\n",
       "    </tr>\n",
       "    <tr>\n",
       "      <th>2934462</th>\n",
       "      <td>18.10.2015</td>\n",
       "      <td>33</td>\n",
       "      <td>25</td>\n",
       "      <td>4896</td>\n",
       "      <td>6398.00</td>\n",
       "      <td>-1.0</td>\n",
       "    </tr>\n",
       "    <tr>\n",
       "      <th>2935263</th>\n",
       "      <td>05.10.2015</td>\n",
       "      <td>33</td>\n",
       "      <td>25</td>\n",
       "      <td>10039</td>\n",
       "      <td>249.00</td>\n",
       "      <td>-1.0</td>\n",
       "    </tr>\n",
       "    <tr>\n",
       "      <th>2935643</th>\n",
       "      <td>16.10.2015</td>\n",
       "      <td>33</td>\n",
       "      <td>25</td>\n",
       "      <td>7893</td>\n",
       "      <td>2990.00</td>\n",
       "      <td>-1.0</td>\n",
       "    </tr>\n",
       "    <tr>\n",
       "      <th>2935779</th>\n",
       "      <td>07.10.2015</td>\n",
       "      <td>33</td>\n",
       "      <td>25</td>\n",
       "      <td>7087</td>\n",
       "      <td>999.00</td>\n",
       "      <td>-1.0</td>\n",
       "    </tr>\n",
       "  </tbody>\n",
       "</table>\n",
       "<p>7356 rows × 6 columns</p>\n",
       "</div>"
      ],
      "text/plain": [
       "               date  date_block_num  shop_id  item_id  item_price  \\\n",
       "2        05.01.2013               0       25     2552      899.00   \n",
       "148      23.01.2013               0       25     2321      999.00   \n",
       "175      07.01.2013               0       25     2199     1449.00   \n",
       "807      02.01.2013               0       25     2330      599.00   \n",
       "1041     13.01.2013               0       25     5034     1989.00   \n",
       "1193     02.01.2013               0       25     5651     5490.00   \n",
       "1674     07.01.2013               0       25     4093      899.00   \n",
       "1825     02.01.2013               0       25     4249     1894.87   \n",
       "2411     14.01.2013               0       24     1628     3899.00   \n",
       "3216     08.01.2013               0       24    20948      899.00   \n",
       "3386     20.01.2013               0       24    11756      169.00   \n",
       "3447     20.01.2013               0       24     9547      149.00   \n",
       "3492     12.01.2013               0       24    10097      699.00   \n",
       "3532     07.01.2013               0       24    15146      299.00   \n",
       "3743     07.01.2013               0       24    14221      299.00   \n",
       "4309     11.01.2013               0       25    12738     1499.00   \n",
       "4675     11.01.2013               0       25    12858     1599.00   \n",
       "4811     11.01.2013               0       25    17084     1199.00   \n",
       "4927     20.01.2013               0       25    16746      399.00   \n",
       "4950     11.01.2013               0       25    17790     1599.00   \n",
       "5108     11.01.2013               0       25    17318     1249.50   \n",
       "5505     14.01.2013               0       25    16451      499.00   \n",
       "6251     02.01.2013               0       25     6241     1199.00   \n",
       "7139     11.01.2013               0       25     9977     1199.00   \n",
       "7174     03.01.2013               0       25     9511      149.00   \n",
       "7277     26.01.2013               0       25     9696      549.00   \n",
       "7576     03.01.2013               0       19    19989     2499.00   \n",
       "7666     08.01.2013               0       19    17526      199.00   \n",
       "7720     15.01.2013               0       19    19362     1998.50   \n",
       "7894     01.01.2013               0       19    20383     1229.00   \n",
       "8008     14.01.2013               0       19    15060      399.00   \n",
       "8200     07.01.2013               0       19    14231      149.00   \n",
       "8499     02.01.2013               0       22     5572     1590.00   \n",
       "8974     11.01.2013               0       22      835     4600.00   \n",
       "9508     02.01.2013               0       19     3851      899.00   \n",
       "9693     07.01.2013               0       19     5031     1399.00   \n",
       "10092    28.01.2013               0       19      804      240.00   \n",
       "10229    02.01.2013               0       19     1953      899.00   \n",
       "10459    13.01.2013               0       19     9000     5991.45   \n",
       "10595    13.01.2013               0       19    12662     1999.00   \n",
       "...             ...             ...      ...      ...         ...   \n",
       "2916256  16.10.2015              33        6     3352     2999.00   \n",
       "2916639  04.10.2015              33        3     4244     1299.00   \n",
       "2916799  04.10.2015              33        3     3556     1299.00   \n",
       "2917848  04.10.2015              33        3     7883      398.00   \n",
       "2918221  14.10.2015              33        9    18103     3799.00   \n",
       "2918395  04.10.2015              33        9    21036     1899.00   \n",
       "2919101  15.10.2015              33       12     1971     3598.00   \n",
       "2919263  26.10.2015              33       12     5488     2799.00   \n",
       "2919311  13.10.2015              33       12     5041     3499.00   \n",
       "2920957  04.10.2015              33        7     7834      799.00   \n",
       "2921035  14.10.2015              33        7    16179     2499.00   \n",
       "2921261  07.10.2015              33        7     3351     3999.00   \n",
       "2921586  02.10.2015              33        7     4415     1500.00   \n",
       "2922502  02.10.2015              33       26    21363     3199.00   \n",
       "2923221  26.10.2015              33       28     5656     5990.00   \n",
       "2923357  20.10.2015              33       28     7230      699.00   \n",
       "2923403  27.10.2015              33       28     7223     3999.00   \n",
       "2923865  03.10.2015              33       25    21256     1299.00   \n",
       "2924293  03.10.2015              33       25    18125      249.00   \n",
       "2924406  02.10.2015              33       26    10513     1499.00   \n",
       "2924442  02.10.2015              33       26    10352     4849.00   \n",
       "2926713  23.10.2015              33       31     9313      349.00   \n",
       "2926793  15.10.2015              33       31    10678     1499.00   \n",
       "2926839  20.10.2015              33       31    10780      349.00   \n",
       "2928586  22.10.2015              33       31     1523      799.00   \n",
       "2929224  08.10.2015              33       21    16146     1799.00   \n",
       "2929946  08.10.2015              33       25     1523      799.00   \n",
       "2930269  06.10.2015              33       24     7039      299.00   \n",
       "2931176  30.10.2015              33       22     8546     1299.00   \n",
       "2932364  28.10.2015              33       25    13215      799.00   \n",
       "2932589  05.10.2015              33       25    13476     7998.00   \n",
       "2932636  16.10.2015              33       25    13400    18990.00   \n",
       "2932721  28.10.2015              33       25    13304      799.00   \n",
       "2933448  21.10.2015              33       25    16199     1999.00   \n",
       "2933712  03.10.2015              33       25    14064      249.00   \n",
       "2934243  26.10.2015              33       25     3917      449.00   \n",
       "2934462  18.10.2015              33       25     4896     6398.00   \n",
       "2935263  05.10.2015              33       25    10039      249.00   \n",
       "2935643  16.10.2015              33       25     7893     2990.00   \n",
       "2935779  07.10.2015              33       25     7087      999.00   \n",
       "\n",
       "         item_cnt_day  \n",
       "2                -1.0  \n",
       "148              -1.0  \n",
       "175              -1.0  \n",
       "807              -1.0  \n",
       "1041             -1.0  \n",
       "1193             -1.0  \n",
       "1674             -1.0  \n",
       "1825             -1.0  \n",
       "2411             -1.0  \n",
       "3216             -1.0  \n",
       "3386             -1.0  \n",
       "3447             -1.0  \n",
       "3492             -1.0  \n",
       "3532             -1.0  \n",
       "3743             -1.0  \n",
       "4309             -1.0  \n",
       "4675             -1.0  \n",
       "4811             -1.0  \n",
       "4927             -1.0  \n",
       "4950             -1.0  \n",
       "5108             -1.0  \n",
       "5505             -1.0  \n",
       "6251             -1.0  \n",
       "7139             -1.0  \n",
       "7174             -1.0  \n",
       "7277             -1.0  \n",
       "7576             -1.0  \n",
       "7666             -1.0  \n",
       "7720             -1.0  \n",
       "7894             -1.0  \n",
       "8008             -1.0  \n",
       "8200             -1.0  \n",
       "8499             -1.0  \n",
       "8974             -1.0  \n",
       "9508             -1.0  \n",
       "9693             -1.0  \n",
       "10092            -1.0  \n",
       "10229            -1.0  \n",
       "10459            -1.0  \n",
       "10595            -1.0  \n",
       "...               ...  \n",
       "2916256          -1.0  \n",
       "2916639          -1.0  \n",
       "2916799          -1.0  \n",
       "2917848          -1.0  \n",
       "2918221          -1.0  \n",
       "2918395          -1.0  \n",
       "2919101          -1.0  \n",
       "2919263          -1.0  \n",
       "2919311          -1.0  \n",
       "2920957          -1.0  \n",
       "2921035          -1.0  \n",
       "2921261          -1.0  \n",
       "2921586          -1.0  \n",
       "2922502          -1.0  \n",
       "2923221          -1.0  \n",
       "2923357          -1.0  \n",
       "2923403          -1.0  \n",
       "2923865          -1.0  \n",
       "2924293          -1.0  \n",
       "2924406          -1.0  \n",
       "2924442          -1.0  \n",
       "2926713          -1.0  \n",
       "2926793          -1.0  \n",
       "2926839          -1.0  \n",
       "2928586          -1.0  \n",
       "2929224          -1.0  \n",
       "2929946          -1.0  \n",
       "2930269          -1.0  \n",
       "2931176          -1.0  \n",
       "2932364          -1.0  \n",
       "2932589          -1.0  \n",
       "2932636          -1.0  \n",
       "2932721          -1.0  \n",
       "2933448          -1.0  \n",
       "2933712          -1.0  \n",
       "2934243          -1.0  \n",
       "2934462          -1.0  \n",
       "2935263          -1.0  \n",
       "2935643          -1.0  \n",
       "2935779          -1.0  \n",
       "\n",
       "[7356 rows x 6 columns]"
      ]
     },
     "execution_count": 9,
     "metadata": {},
     "output_type": "execute_result"
    }
   ],
   "source": [
    "sales[sales.item_cnt_day < 0]"
   ]
  },
  {
   "cell_type": "markdown",
   "metadata": {},
   "source": [
    "But the price less then zero isn't normal. We will change it with median."
   ]
  },
  {
   "cell_type": "code",
   "execution_count": 10,
   "metadata": {
    "ExecuteTime": {
     "end_time": "2019-11-02T08:14:01.888434Z",
     "start_time": "2019-11-02T08:14:01.866499Z"
    }
   },
   "outputs": [
    {
     "data": {
      "text/html": [
       "<div>\n",
       "<style scoped>\n",
       "    .dataframe tbody tr th:only-of-type {\n",
       "        vertical-align: middle;\n",
       "    }\n",
       "\n",
       "    .dataframe tbody tr th {\n",
       "        vertical-align: top;\n",
       "    }\n",
       "\n",
       "    .dataframe thead th {\n",
       "        text-align: right;\n",
       "    }\n",
       "</style>\n",
       "<table border=\"1\" class=\"dataframe\">\n",
       "  <thead>\n",
       "    <tr style=\"text-align: right;\">\n",
       "      <th></th>\n",
       "      <th>date</th>\n",
       "      <th>date_block_num</th>\n",
       "      <th>shop_id</th>\n",
       "      <th>item_id</th>\n",
       "      <th>item_price</th>\n",
       "      <th>item_cnt_day</th>\n",
       "    </tr>\n",
       "  </thead>\n",
       "  <tbody>\n",
       "    <tr>\n",
       "      <th>484683</th>\n",
       "      <td>15.05.2013</td>\n",
       "      <td>4</td>\n",
       "      <td>32</td>\n",
       "      <td>2973</td>\n",
       "      <td>-1.0</td>\n",
       "      <td>1.0</td>\n",
       "    </tr>\n",
       "  </tbody>\n",
       "</table>\n",
       "</div>"
      ],
      "text/plain": [
       "              date  date_block_num  shop_id  item_id  item_price  item_cnt_day\n",
       "484683  15.05.2013               4       32     2973        -1.0           1.0"
      ]
     },
     "execution_count": 10,
     "metadata": {},
     "output_type": "execute_result"
    }
   ],
   "source": [
    "sales[sales.item_price < 0]"
   ]
  },
  {
   "cell_type": "code",
   "execution_count": 11,
   "metadata": {
    "ExecuteTime": {
     "end_time": "2019-11-02T08:14:02.585568Z",
     "start_time": "2019-11-02T08:14:02.264428Z"
    }
   },
   "outputs": [],
   "source": [
    "price_correction = all_data[(all_data['shop_id'] == 32) & (all_data['item_id'] == 2973) & (all_data['date_block_num'] == 4) & (all_data['item_price'] > 0)].item_price.median()\n",
    "all_data.loc[all_data['item_price'] < 0, 'item_price'] = price_correction"
   ]
  },
  {
   "cell_type": "markdown",
   "metadata": {},
   "source": [
    "Check shop names. There are several shops with different id's, but the same name"
   ]
  },
  {
   "cell_type": "code",
   "execution_count": 12,
   "metadata": {
    "ExecuteTime": {
     "end_time": "2019-11-02T08:14:02.996468Z",
     "start_time": "2019-11-02T08:14:02.970539Z"
    }
   },
   "outputs": [
    {
     "data": {
      "text/html": [
       "<div>\n",
       "<style scoped>\n",
       "    .dataframe tbody tr th:only-of-type {\n",
       "        vertical-align: middle;\n",
       "    }\n",
       "\n",
       "    .dataframe tbody tr th {\n",
       "        vertical-align: top;\n",
       "    }\n",
       "\n",
       "    .dataframe thead th {\n",
       "        text-align: right;\n",
       "    }\n",
       "</style>\n",
       "<table border=\"1\" class=\"dataframe\">\n",
       "  <thead>\n",
       "    <tr style=\"text-align: right;\">\n",
       "      <th></th>\n",
       "      <th>shop_name</th>\n",
       "      <th>shop_id</th>\n",
       "    </tr>\n",
       "  </thead>\n",
       "  <tbody>\n",
       "    <tr>\n",
       "      <th>0</th>\n",
       "      <td>!Якутск Орджоникидзе, 56 фран</td>\n",
       "      <td>0</td>\n",
       "    </tr>\n",
       "    <tr>\n",
       "      <th>1</th>\n",
       "      <td>!Якутск ТЦ \"Центральный\" фран</td>\n",
       "      <td>1</td>\n",
       "    </tr>\n",
       "    <tr>\n",
       "      <th>2</th>\n",
       "      <td>Адыгея ТЦ \"Мега\"</td>\n",
       "      <td>2</td>\n",
       "    </tr>\n",
       "    <tr>\n",
       "      <th>3</th>\n",
       "      <td>Балашиха ТРК \"Октябрь-Киномир\"</td>\n",
       "      <td>3</td>\n",
       "    </tr>\n",
       "    <tr>\n",
       "      <th>4</th>\n",
       "      <td>Волжский ТЦ \"Волга Молл\"</td>\n",
       "      <td>4</td>\n",
       "    </tr>\n",
       "    <tr>\n",
       "      <th>5</th>\n",
       "      <td>Вологда ТРЦ \"Мармелад\"</td>\n",
       "      <td>5</td>\n",
       "    </tr>\n",
       "    <tr>\n",
       "      <th>6</th>\n",
       "      <td>Воронеж (Плехановская, 13)</td>\n",
       "      <td>6</td>\n",
       "    </tr>\n",
       "    <tr>\n",
       "      <th>7</th>\n",
       "      <td>Воронеж ТРЦ \"Максимир\"</td>\n",
       "      <td>7</td>\n",
       "    </tr>\n",
       "    <tr>\n",
       "      <th>8</th>\n",
       "      <td>Воронеж ТРЦ Сити-Парк \"Град\"</td>\n",
       "      <td>8</td>\n",
       "    </tr>\n",
       "    <tr>\n",
       "      <th>9</th>\n",
       "      <td>Выездная Торговля</td>\n",
       "      <td>9</td>\n",
       "    </tr>\n",
       "    <tr>\n",
       "      <th>10</th>\n",
       "      <td>Жуковский ул. Чкалова 39м?</td>\n",
       "      <td>10</td>\n",
       "    </tr>\n",
       "    <tr>\n",
       "      <th>11</th>\n",
       "      <td>Жуковский ул. Чкалова 39м²</td>\n",
       "      <td>11</td>\n",
       "    </tr>\n",
       "    <tr>\n",
       "      <th>12</th>\n",
       "      <td>Интернет-магазин ЧС</td>\n",
       "      <td>12</td>\n",
       "    </tr>\n",
       "    <tr>\n",
       "      <th>13</th>\n",
       "      <td>Казань ТЦ \"Бехетле\"</td>\n",
       "      <td>13</td>\n",
       "    </tr>\n",
       "    <tr>\n",
       "      <th>14</th>\n",
       "      <td>Казань ТЦ \"ПаркХаус\" II</td>\n",
       "      <td>14</td>\n",
       "    </tr>\n",
       "    <tr>\n",
       "      <th>15</th>\n",
       "      <td>Калуга ТРЦ \"XXI век\"</td>\n",
       "      <td>15</td>\n",
       "    </tr>\n",
       "    <tr>\n",
       "      <th>16</th>\n",
       "      <td>Коломна ТЦ \"Рио\"</td>\n",
       "      <td>16</td>\n",
       "    </tr>\n",
       "    <tr>\n",
       "      <th>17</th>\n",
       "      <td>Красноярск ТЦ \"Взлетка Плаза\"</td>\n",
       "      <td>17</td>\n",
       "    </tr>\n",
       "    <tr>\n",
       "      <th>18</th>\n",
       "      <td>Красноярск ТЦ \"Июнь\"</td>\n",
       "      <td>18</td>\n",
       "    </tr>\n",
       "    <tr>\n",
       "      <th>19</th>\n",
       "      <td>Курск ТЦ \"Пушкинский\"</td>\n",
       "      <td>19</td>\n",
       "    </tr>\n",
       "    <tr>\n",
       "      <th>20</th>\n",
       "      <td>Москва \"Распродажа\"</td>\n",
       "      <td>20</td>\n",
       "    </tr>\n",
       "    <tr>\n",
       "      <th>21</th>\n",
       "      <td>Москва МТРЦ \"Афи Молл\"</td>\n",
       "      <td>21</td>\n",
       "    </tr>\n",
       "    <tr>\n",
       "      <th>22</th>\n",
       "      <td>Москва Магазин С21</td>\n",
       "      <td>22</td>\n",
       "    </tr>\n",
       "    <tr>\n",
       "      <th>23</th>\n",
       "      <td>Москва ТК \"Буденовский\" (пав.А2)</td>\n",
       "      <td>23</td>\n",
       "    </tr>\n",
       "    <tr>\n",
       "      <th>24</th>\n",
       "      <td>Москва ТК \"Буденовский\" (пав.К7)</td>\n",
       "      <td>24</td>\n",
       "    </tr>\n",
       "    <tr>\n",
       "      <th>25</th>\n",
       "      <td>Москва ТРК \"Атриум\"</td>\n",
       "      <td>25</td>\n",
       "    </tr>\n",
       "    <tr>\n",
       "      <th>26</th>\n",
       "      <td>Москва ТЦ \"Ареал\" (Беляево)</td>\n",
       "      <td>26</td>\n",
       "    </tr>\n",
       "    <tr>\n",
       "      <th>27</th>\n",
       "      <td>Москва ТЦ \"МЕГА Белая Дача II\"</td>\n",
       "      <td>27</td>\n",
       "    </tr>\n",
       "    <tr>\n",
       "      <th>28</th>\n",
       "      <td>Москва ТЦ \"МЕГА Теплый Стан\" II</td>\n",
       "      <td>28</td>\n",
       "    </tr>\n",
       "    <tr>\n",
       "      <th>29</th>\n",
       "      <td>Москва ТЦ \"Новый век\" (Новокосино)</td>\n",
       "      <td>29</td>\n",
       "    </tr>\n",
       "    <tr>\n",
       "      <th>30</th>\n",
       "      <td>Москва ТЦ \"Перловский\"</td>\n",
       "      <td>30</td>\n",
       "    </tr>\n",
       "    <tr>\n",
       "      <th>31</th>\n",
       "      <td>Москва ТЦ \"Семеновский\"</td>\n",
       "      <td>31</td>\n",
       "    </tr>\n",
       "    <tr>\n",
       "      <th>32</th>\n",
       "      <td>Москва ТЦ \"Серебряный Дом\"</td>\n",
       "      <td>32</td>\n",
       "    </tr>\n",
       "    <tr>\n",
       "      <th>33</th>\n",
       "      <td>Мытищи ТРК \"XL-3\"</td>\n",
       "      <td>33</td>\n",
       "    </tr>\n",
       "    <tr>\n",
       "      <th>34</th>\n",
       "      <td>Н.Новгород ТРЦ \"РИО\"</td>\n",
       "      <td>34</td>\n",
       "    </tr>\n",
       "    <tr>\n",
       "      <th>35</th>\n",
       "      <td>Н.Новгород ТРЦ \"Фантастика\"</td>\n",
       "      <td>35</td>\n",
       "    </tr>\n",
       "    <tr>\n",
       "      <th>36</th>\n",
       "      <td>Новосибирск ТРЦ \"Галерея Новосибирск\"</td>\n",
       "      <td>36</td>\n",
       "    </tr>\n",
       "    <tr>\n",
       "      <th>37</th>\n",
       "      <td>Новосибирск ТЦ \"Мега\"</td>\n",
       "      <td>37</td>\n",
       "    </tr>\n",
       "    <tr>\n",
       "      <th>38</th>\n",
       "      <td>Омск ТЦ \"Мега\"</td>\n",
       "      <td>38</td>\n",
       "    </tr>\n",
       "    <tr>\n",
       "      <th>39</th>\n",
       "      <td>РостовНаДону ТРК \"Мегацентр Горизонт\"</td>\n",
       "      <td>39</td>\n",
       "    </tr>\n",
       "    <tr>\n",
       "      <th>40</th>\n",
       "      <td>РостовНаДону ТРК \"Мегацентр Горизонт\" Островной</td>\n",
       "      <td>40</td>\n",
       "    </tr>\n",
       "    <tr>\n",
       "      <th>41</th>\n",
       "      <td>РостовНаДону ТЦ \"Мега\"</td>\n",
       "      <td>41</td>\n",
       "    </tr>\n",
       "    <tr>\n",
       "      <th>42</th>\n",
       "      <td>СПб ТК \"Невский Центр\"</td>\n",
       "      <td>42</td>\n",
       "    </tr>\n",
       "    <tr>\n",
       "      <th>43</th>\n",
       "      <td>СПб ТК \"Сенная\"</td>\n",
       "      <td>43</td>\n",
       "    </tr>\n",
       "    <tr>\n",
       "      <th>44</th>\n",
       "      <td>Самара ТЦ \"Мелодия\"</td>\n",
       "      <td>44</td>\n",
       "    </tr>\n",
       "    <tr>\n",
       "      <th>45</th>\n",
       "      <td>Самара ТЦ \"ПаркХаус\"</td>\n",
       "      <td>45</td>\n",
       "    </tr>\n",
       "    <tr>\n",
       "      <th>46</th>\n",
       "      <td>Сергиев Посад ТЦ \"7Я\"</td>\n",
       "      <td>46</td>\n",
       "    </tr>\n",
       "    <tr>\n",
       "      <th>47</th>\n",
       "      <td>Сургут ТРЦ \"Сити Молл\"</td>\n",
       "      <td>47</td>\n",
       "    </tr>\n",
       "    <tr>\n",
       "      <th>48</th>\n",
       "      <td>Томск ТРЦ \"Изумрудный Город\"</td>\n",
       "      <td>48</td>\n",
       "    </tr>\n",
       "    <tr>\n",
       "      <th>49</th>\n",
       "      <td>Тюмень ТРЦ \"Кристалл\"</td>\n",
       "      <td>49</td>\n",
       "    </tr>\n",
       "    <tr>\n",
       "      <th>50</th>\n",
       "      <td>Тюмень ТЦ \"Гудвин\"</td>\n",
       "      <td>50</td>\n",
       "    </tr>\n",
       "    <tr>\n",
       "      <th>51</th>\n",
       "      <td>Тюмень ТЦ \"Зеленый Берег\"</td>\n",
       "      <td>51</td>\n",
       "    </tr>\n",
       "    <tr>\n",
       "      <th>52</th>\n",
       "      <td>Уфа ТК \"Центральный\"</td>\n",
       "      <td>52</td>\n",
       "    </tr>\n",
       "    <tr>\n",
       "      <th>53</th>\n",
       "      <td>Уфа ТЦ \"Семья\" 2</td>\n",
       "      <td>53</td>\n",
       "    </tr>\n",
       "    <tr>\n",
       "      <th>54</th>\n",
       "      <td>Химки ТЦ \"Мега\"</td>\n",
       "      <td>54</td>\n",
       "    </tr>\n",
       "    <tr>\n",
       "      <th>55</th>\n",
       "      <td>Цифровой склад 1С-Онлайн</td>\n",
       "      <td>55</td>\n",
       "    </tr>\n",
       "    <tr>\n",
       "      <th>56</th>\n",
       "      <td>Чехов ТРЦ \"Карнавал\"</td>\n",
       "      <td>56</td>\n",
       "    </tr>\n",
       "    <tr>\n",
       "      <th>57</th>\n",
       "      <td>Якутск Орджоникидзе, 56</td>\n",
       "      <td>57</td>\n",
       "    </tr>\n",
       "    <tr>\n",
       "      <th>58</th>\n",
       "      <td>Якутск ТЦ \"Центральный\"</td>\n",
       "      <td>58</td>\n",
       "    </tr>\n",
       "    <tr>\n",
       "      <th>59</th>\n",
       "      <td>Ярославль ТЦ \"Альтаир\"</td>\n",
       "      <td>59</td>\n",
       "    </tr>\n",
       "  </tbody>\n",
       "</table>\n",
       "</div>"
      ],
      "text/plain": [
       "                                          shop_name  shop_id\n",
       "0                     !Якутск Орджоникидзе, 56 фран        0\n",
       "1                     !Якутск ТЦ \"Центральный\" фран        1\n",
       "2                                  Адыгея ТЦ \"Мега\"        2\n",
       "3                    Балашиха ТРК \"Октябрь-Киномир\"        3\n",
       "4                          Волжский ТЦ \"Волга Молл\"        4\n",
       "5                            Вологда ТРЦ \"Мармелад\"        5\n",
       "6                        Воронеж (Плехановская, 13)        6\n",
       "7                            Воронеж ТРЦ \"Максимир\"        7\n",
       "8                      Воронеж ТРЦ Сити-Парк \"Град\"        8\n",
       "9                                 Выездная Торговля        9\n",
       "10                       Жуковский ул. Чкалова 39м?       10\n",
       "11                       Жуковский ул. Чкалова 39м²       11\n",
       "12                              Интернет-магазин ЧС       12\n",
       "13                              Казань ТЦ \"Бехетле\"       13\n",
       "14                          Казань ТЦ \"ПаркХаус\" II       14\n",
       "15                             Калуга ТРЦ \"XXI век\"       15\n",
       "16                                 Коломна ТЦ \"Рио\"       16\n",
       "17                    Красноярск ТЦ \"Взлетка Плаза\"       17\n",
       "18                             Красноярск ТЦ \"Июнь\"       18\n",
       "19                            Курск ТЦ \"Пушкинский\"       19\n",
       "20                              Москва \"Распродажа\"       20\n",
       "21                           Москва МТРЦ \"Афи Молл\"       21\n",
       "22                               Москва Магазин С21       22\n",
       "23                 Москва ТК \"Буденовский\" (пав.А2)       23\n",
       "24                 Москва ТК \"Буденовский\" (пав.К7)       24\n",
       "25                              Москва ТРК \"Атриум\"       25\n",
       "26                      Москва ТЦ \"Ареал\" (Беляево)       26\n",
       "27                   Москва ТЦ \"МЕГА Белая Дача II\"       27\n",
       "28                  Москва ТЦ \"МЕГА Теплый Стан\" II       28\n",
       "29               Москва ТЦ \"Новый век\" (Новокосино)       29\n",
       "30                           Москва ТЦ \"Перловский\"       30\n",
       "31                          Москва ТЦ \"Семеновский\"       31\n",
       "32                       Москва ТЦ \"Серебряный Дом\"       32\n",
       "33                                Мытищи ТРК \"XL-3\"       33\n",
       "34                             Н.Новгород ТРЦ \"РИО\"       34\n",
       "35                      Н.Новгород ТРЦ \"Фантастика\"       35\n",
       "36            Новосибирск ТРЦ \"Галерея Новосибирск\"       36\n",
       "37                            Новосибирск ТЦ \"Мега\"       37\n",
       "38                                   Омск ТЦ \"Мега\"       38\n",
       "39            РостовНаДону ТРК \"Мегацентр Горизонт\"       39\n",
       "40  РостовНаДону ТРК \"Мегацентр Горизонт\" Островной       40\n",
       "41                           РостовНаДону ТЦ \"Мега\"       41\n",
       "42                           СПб ТК \"Невский Центр\"       42\n",
       "43                                  СПб ТК \"Сенная\"       43\n",
       "44                              Самара ТЦ \"Мелодия\"       44\n",
       "45                             Самара ТЦ \"ПаркХаус\"       45\n",
       "46                            Сергиев Посад ТЦ \"7Я\"       46\n",
       "47                           Сургут ТРЦ \"Сити Молл\"       47\n",
       "48                     Томск ТРЦ \"Изумрудный Город\"       48\n",
       "49                            Тюмень ТРЦ \"Кристалл\"       49\n",
       "50                               Тюмень ТЦ \"Гудвин\"       50\n",
       "51                        Тюмень ТЦ \"Зеленый Берег\"       51\n",
       "52                             Уфа ТК \"Центральный\"       52\n",
       "53                                 Уфа ТЦ \"Семья\" 2       53\n",
       "54                                  Химки ТЦ \"Мега\"       54\n",
       "55                         Цифровой склад 1С-Онлайн       55\n",
       "56                             Чехов ТРЦ \"Карнавал\"       56\n",
       "57                          Якутск Орджоникидзе, 56       57\n",
       "58                          Якутск ТЦ \"Центральный\"       58\n",
       "59                           Ярославль ТЦ \"Альтаир\"       59"
      ]
     },
     "execution_count": 12,
     "metadata": {},
     "output_type": "execute_result"
    }
   ],
   "source": [
    "shops"
   ]
  },
  {
   "cell_type": "code",
   "execution_count": 13,
   "metadata": {
    "ExecuteTime": {
     "end_time": "2019-11-02T08:14:03.805304Z",
     "start_time": "2019-11-02T08:14:03.353515Z"
    }
   },
   "outputs": [],
   "source": [
    "# Якутск Орджоникидзе, 56\n",
    "all_data.loc[all_data.shop_id == 0, 'shop_id'] = 57\n",
    "# Якутск ТЦ \"Центральный\"\n",
    "all_data.loc[all_data.shop_id == 1, 'shop_id'] = 58\n",
    "# Жуковский ул. Чкалова 39м²\n",
    "all_data.loc[all_data.shop_id == 10, 'shop_id'] = 11"
   ]
  },
  {
   "cell_type": "markdown",
   "metadata": {},
   "source": [
    "# Data prepare"
   ]
  },
  {
   "cell_type": "markdown",
   "metadata": {},
   "source": [
    "Make time lags for shops and items"
   ]
  },
  {
   "cell_type": "code",
   "execution_count": 14,
   "metadata": {
    "ExecuteTime": {
     "end_time": "2019-11-02T08:14:04.573249Z",
     "start_time": "2019-11-02T08:14:04.209225Z"
    }
   },
   "outputs": [],
   "source": [
    "def make_lag(sales, items):\n",
    "    # Create \"grid\" with columns\n",
    "    index_cols = ['shop_id', 'item_id', 'date_block_num']\n",
    "\n",
    "    # For every month we create a grid from all shops/items combinations from that month\n",
    "    grid = [] \n",
    "    for block_num in sales['date_block_num'].unique():\n",
    "        cur_shops = sales.loc[sales['date_block_num'] == block_num, 'shop_id'].unique()\n",
    "        cur_items = sales.loc[sales['date_block_num'] == block_num, 'item_id'].unique()\n",
    "        grid.append(np.array(list(product(*[cur_shops, cur_items, [block_num]])),dtype='int32'))\n",
    "\n",
    "    # Turn the grid into a dataframe\n",
    "    grid = pd.DataFrame(np.vstack(grid), columns = index_cols,dtype=np.int32)\n",
    "\n",
    "    # Groupby data to get shop-item-month aggregates\n",
    "    gb = sales.groupby(index_cols,as_index=False).agg({'item_cnt_day':{'target':'sum'}})\n",
    "    # Fix column names\n",
    "    gb.columns = [col[0] if col[-1]=='' else col[-1] for col in gb.columns.values] \n",
    "    # Join it to the grid\n",
    "    all_data = pd.merge(grid, gb, how='left', on=index_cols).fillna(0)\n",
    "\n",
    "    # Same as above but with shop-month aggregates\n",
    "    gb = sales.groupby(['shop_id', 'date_block_num'],as_index=False).agg({'item_cnt_day':{'target_shop':'sum'}})\n",
    "    gb.columns = [col[0] if col[-1]=='' else col[-1] for col in gb.columns.values]\n",
    "    all_data = pd.merge(all_data, gb, how='left', on=['shop_id', 'date_block_num']).fillna(0)\n",
    "\n",
    "    # Same as above but with item-month aggregates\n",
    "    gb = sales.groupby(['item_id', 'date_block_num'],as_index=False).agg({'item_cnt_day':{'target_item':'sum'}})\n",
    "    gb.columns = [col[0] if col[-1] == '' else col[-1] for col in gb.columns.values]\n",
    "    all_data = pd.merge(all_data, gb, how='left', on=['item_id', 'date_block_num']).fillna(0)\n",
    "\n",
    "    # Downcast dtypes from 64 to 32 bit to save memory\n",
    "    all_data = downcast_dtypes(all_data)\n",
    "    del grid, gb \n",
    "    gc.collect();\n",
    "    \n",
    "    gb = sales.groupby(index_cols,as_index=False).agg({'item_cnt_day':{'target':'sum'}})\n",
    "    # List of columns that we will use to create lags\n",
    "    cols_to_rename = list(all_data.columns.difference(index_cols)) \n",
    "\n",
    "    shift_range = [1, 2, 3, 4, 5, 12]\n",
    "\n",
    "    for month_shift in tqdm_notebook(shift_range):\n",
    "        train_shift = all_data[index_cols + cols_to_rename].copy()\n",
    "\n",
    "        train_shift['date_block_num'] = train_shift['date_block_num'] + month_shift\n",
    "\n",
    "        foo = lambda x: '{}_lag_{}'.format(x, month_shift) if x in cols_to_rename else x\n",
    "        train_shift = train_shift.rename(columns=foo)\n",
    "\n",
    "        all_data = pd.merge(all_data, train_shift, on=index_cols, how='left').fillna(0)\n",
    "\n",
    "        del train_shift\n",
    "\n",
    "    # Don't use old data from year 2013\n",
    "    all_data = all_data[all_data['date_block_num'] >= 12] \n",
    "\n",
    "    # List of all lagged features\n",
    "    fit_cols = [col for col in all_data.columns if col[-1] in [str(item) for item in shift_range]] \n",
    "    # We will drop these at fitting stage\n",
    "    to_drop_cols = list(set(list(all_data.columns)) - (set(fit_cols)|set(index_cols))) + ['date_block_num'] \n",
    "\n",
    "    # Category for each item\n",
    "    item_category_mapping = items[['item_id','item_category_id']].drop_duplicates()\n",
    "\n",
    "    all_data = pd.merge(all_data, item_category_mapping, how='left', on='item_id')\n",
    "    all_data = downcast_dtypes(all_data)\n",
    "    gc.collect();\n",
    "    return all_data\n",
    "\n",
    "def downcast_dtypes(df):\n",
    "    '''\n",
    "        Changes column types in the dataframe: \n",
    "                \n",
    "                `float64` type to `float32`\n",
    "                `int64`   type to `int32`\n",
    "    '''\n",
    "    \n",
    "    # Select columns to downcast\n",
    "    float_cols = [c for c in df if df[c].dtype == \"float64\"]\n",
    "    int_cols =   [c for c in df if df[c].dtype == \"int64\"]\n",
    "    \n",
    "    # Downcast\n",
    "    df[float_cols] = df[float_cols].astype(np.float32)\n",
    "    df[int_cols]   = df[int_cols].astype(np.int32)\n",
    "    \n",
    "    return df"
   ]
  },
  {
   "cell_type": "code",
   "execution_count": null,
   "metadata": {
    "ExecuteTime": {
     "end_time": "2019-11-02T08:15:58.251907Z",
     "start_time": "2019-11-02T08:14:04.943261Z"
    }
   },
   "outputs": [
    {
     "data": {
      "application/vnd.jupyter.widget-view+json": {
       "model_id": "4f1ac362935142beb20dd87aa090a13f",
       "version_major": 2,
       "version_minor": 0
      },
      "text/plain": [
       "HBox(children=(IntProgress(value=0, max=6), HTML(value='')))"
      ]
     },
     "metadata": {},
     "output_type": "display_data"
    }
   ],
   "source": [
    "X = make_lag(all_data, items)"
   ]
  },
  {
   "cell_type": "code",
   "execution_count": null,
   "metadata": {
    "ExecuteTime": {
     "end_time": "2019-11-02T08:15:59.006492Z",
     "start_time": "2019-11-02T08:15:58.970587Z"
    }
   },
   "outputs": [],
   "source": [
    "X.tail()"
   ]
  },
  {
   "cell_type": "markdown",
   "metadata": {},
   "source": [
    "Add a flag to check, that this item has never been sold in this shop"
   ]
  },
  {
   "cell_type": "code",
   "execution_count": null,
   "metadata": {
    "ExecuteTime": {
     "end_time": "2019-11-02T08:16:03.651177Z",
     "start_time": "2019-11-02T08:15:59.731552Z"
    }
   },
   "outputs": [],
   "source": [
    "X['neversold'] = X.groupby(['item_id', 'shop_id'])['target'].transform('size').map(lambda x: 1 if x<=1 else 0)"
   ]
  },
  {
   "cell_type": "markdown",
   "metadata": {},
   "source": [
    "Now I want to add different features from shop names: city, feature that indicates, that this city is Moscow district, feature to check that this shop is distance shop."
   ]
  },
  {
   "cell_type": "code",
   "execution_count": null,
   "metadata": {
    "ExecuteTime": {
     "end_time": "2019-11-02T08:16:04.498912Z",
     "start_time": "2019-11-02T08:16:04.460013Z"
    }
   },
   "outputs": [],
   "source": [
    "shops['city'] = shops.shop_name.map(lambda x: x.split()[0])\n",
    "shops['city'] = shops['city'].replace('!Якутск', 'Якутск')\n",
    "shops['Moscow'] = shops.city.map(lambda x: 1 if x == 'Москва' else 0)\n",
    "shops['MO'] = shops.city.map(lambda x: 1 if x in ['Чехов', 'Химки', 'Сергиев', 'Мытищи', 'Коломна', 'Жуковский', 'Балашиха'] else 0)\n",
    "shops['distshop'] = shops.city.map(lambda x: 1 if x in ['Выездная', 'Интернет-магазин'] else 0)\n",
    "shops['city'] = shops.city.map(lambda x: 'unknown' if x in ['Выездная', 'Интернет-магазин'] else x)\n",
    "shops['city_code'] = LabelEncoder().fit_transform(shops['city'])\n",
    "shops = shops.drop(['shop_name', 'city'], axis=1)"
   ]
  },
  {
   "cell_type": "markdown",
   "metadata": {},
   "source": [
    "Then we will create features on category information: subcategory and subcategory 2. There are many common words in this categories."
   ]
  },
  {
   "cell_type": "code",
   "execution_count": null,
   "metadata": {
    "ExecuteTime": {
     "end_time": "2019-11-02T08:16:05.221038Z",
     "start_time": "2019-11-02T08:16:05.204023Z"
    }
   },
   "outputs": [],
   "source": [
    "item_cats['subcat1'] = item_cats['item_category_name'].map(lambda x: x.split(' - ')[0])\n",
    "item_cats['subcat1'] = LabelEncoder().fit_transform(item_cats['subcat1'])\n",
    "item_cats['subcat2'] = item_cats['item_category_name'].map(lambda x: x.split(' - ')[-1])\n",
    "item_cats['subcat2'] = LabelEncoder().fit_transform(item_cats['subcat2'])\n",
    "item_cats = item_cats.drop('item_category_name', axis = 1)"
   ]
  },
  {
   "cell_type": "code",
   "execution_count": null,
   "metadata": {
    "ExecuteTime": {
     "end_time": "2019-11-02T08:16:09.402836Z",
     "start_time": "2019-11-02T08:16:05.911131Z"
    }
   },
   "outputs": [],
   "source": [
    "X = pd.merge(X, item_cats, on=['item_category_id'], how='left')\n",
    "X = pd.merge(X, shops, on=['shop_id'], how='left')"
   ]
  },
  {
   "cell_type": "markdown",
   "metadata": {},
   "source": [
    "Add mead encoder features"
   ]
  },
  {
   "cell_type": "code",
   "execution_count": null,
   "metadata": {
    "ExecuteTime": {
     "end_time": "2019-11-02T08:16:12.160470Z",
     "start_time": "2019-11-02T08:16:10.149795Z"
    }
   },
   "outputs": [],
   "source": [
    "cumsum1 = X.groupby('item_id')['target'].cumsum() - X['target']\n",
    "cumcnt1 = X.groupby('item_id')['target'].cumcount()\n",
    "encoded_feature = cumsum1/cumcnt1\n",
    "encoded_feature.fillna(0.3343, inplace=True) \n",
    "X['mean_enc_item'] = encoded_feature\n",
    "\n",
    "del cumsum1, cumcnt1\n",
    "gc;"
   ]
  },
  {
   "cell_type": "markdown",
   "metadata": {},
   "source": [
    "Add several simple features"
   ]
  },
  {
   "cell_type": "code",
   "execution_count": null,
   "metadata": {
    "ExecuteTime": {
     "end_time": "2019-11-02T08:16:13.306063Z",
     "start_time": "2019-11-02T08:16:13.055032Z"
    }
   },
   "outputs": [],
   "source": [
    "X['month'] = X['date_block_num'] % 12\n",
    "days = pd.Series([31,28,31,30,31,30,31,31,30,31,30,31])\n",
    "X['days'] = X['month'].map(days).astype(np.int8)\n"
   ]
  },
  {
   "cell_type": "markdown",
   "metadata": {},
   "source": [
    "We don't know prices for items in test data, so lets use median for all items. For items which wasn't reperesented in train data we will use mean price for category"
   ]
  },
  {
   "cell_type": "code",
   "execution_count": null,
   "metadata": {
    "ExecuteTime": {
     "end_time": "2019-11-02T08:16:19.708843Z",
     "start_time": "2019-11-02T08:16:14.066941Z"
    }
   },
   "outputs": [],
   "source": [
    "item_price = all_data[all_data.date_block_num < 34].groupby('item_id')['item_price'].median()\n",
    "X = pd.merge(X, item_price, how='left', on='item_id')\n",
    "X['item_price'] = X.groupby(\"item_category_id\")['item_price'].transform(lambda x: x.fillna(x.mean()))"
   ]
  },
  {
   "cell_type": "markdown",
   "metadata": {},
   "source": [
    "But there is one category, about which we know nothing. This is category id - 0. Let's discover it"
   ]
  },
  {
   "cell_type": "code",
   "execution_count": null,
   "metadata": {
    "ExecuteTime": {
     "end_time": "2019-11-02T08:16:20.511826Z",
     "start_time": "2019-11-02T08:16:20.484899Z"
    }
   },
   "outputs": [],
   "source": [
    "X[X.item_price.isnull()].item_category_id.value_counts()"
   ]
  },
  {
   "cell_type": "code",
   "execution_count": null,
   "metadata": {
    "ExecuteTime": {
     "end_time": "2019-11-02T08:16:21.333386Z",
     "start_time": "2019-11-02T08:16:21.320423Z"
    }
   },
   "outputs": [],
   "source": [
    "item_cats[item_cats.item_category_id == 0]"
   ]
  },
  {
   "cell_type": "markdown",
   "metadata": {},
   "source": [
    "We have no common category, but we can find all items headphones and take their price"
   ]
  },
  {
   "cell_type": "code",
   "execution_count": null,
   "metadata": {
    "ExecuteTime": {
     "end_time": "2019-11-02T08:16:23.575427Z",
     "start_time": "2019-11-02T08:16:22.117289Z"
    }
   },
   "outputs": [],
   "source": [
    "nau_id = items[items.item_name.map(str.lower).str.contains('наушники')]['item_id']\n",
    "\n",
    "X = X.fillna(X[(X.item_price.notnull())&(X.item_id.isin(nau_id))]['item_price'].median())"
   ]
  },
  {
   "cell_type": "markdown",
   "metadata": {},
   "source": [
    "Binary features for prices"
   ]
  },
  {
   "cell_type": "code",
   "execution_count": null,
   "metadata": {
    "ExecuteTime": {
     "end_time": "2019-11-02T08:16:24.627571Z",
     "start_time": "2019-11-02T08:16:24.386219Z"
    }
   },
   "outputs": [],
   "source": [
    "X['low_low_price'] = (X['item_price'] < 100).astype('int8')\n",
    "X['low_price'] = ((X['item_price'] >= 100)& (X['item_price'] < 300)).astype('int8')\n",
    "X['medium_price'] = ((X['item_price'] >= 300)& (X['item_price'] < 500)).astype('int8')\n",
    "X['high_price'] = ((X['item_price'] >= 500)& (X['item_price'] < 850)).astype('int8')\n",
    "X['very_high_price'] = (X['item_price'] >= 850).astype('int8')"
   ]
  },
  {
   "cell_type": "code",
   "execution_count": null,
   "metadata": {
    "ExecuteTime": {
     "end_time": "2019-11-02T08:16:25.493743Z",
     "start_time": "2019-11-02T08:16:25.438855Z"
    }
   },
   "outputs": [],
   "source": [
    "X.head()"
   ]
  },
  {
   "cell_type": "markdown",
   "metadata": {},
   "source": [
    "# Models"
   ]
  },
  {
   "cell_type": "markdown",
   "metadata": {},
   "source": [
    "## Model 1 - lightgbm"
   ]
  },
  {
   "cell_type": "code",
   "execution_count": null,
   "metadata": {
    "ExecuteTime": {
     "end_time": "2019-11-02T08:16:26.331834Z",
     "start_time": "2019-11-02T08:16:26.291942Z"
    }
   },
   "outputs": [],
   "source": [
    "def train_test_modern(all_data):\n",
    "    y_train = all_data[(all_data.date_block_num >= 12)&(all_data.date_block_num < 33)]\\\n",
    "        .set_index(['shop_id', 'item_id', 'date_block_num'])['target'].clip(0,20)\n",
    "    y_valid = all_data[all_data.date_block_num == 33]\\\n",
    "        .set_index(['shop_id', 'item_id', 'date_block_num'])['target'].clip(0,20)\n",
    "    all_data = all_data.drop(['target','target_shop','target_item'], axis=1)\n",
    "    X_train = all_data[(all_data.date_block_num >= 12)&(all_data.date_block_num < 33)]\\\n",
    "        .set_index(['shop_id', 'item_id', 'date_block_num']).copy()\n",
    "    X_valid = all_data[all_data.date_block_num == 33]\\\n",
    "        .set_index(['shop_id', 'item_id', 'date_block_num']).copy()\n",
    "    X_test = all_data[all_data.date_block_num == 34]\\\n",
    "        .set_index(['shop_id', 'item_id', 'date_block_num']).copy()\n",
    "    return X_train, X_valid, y_train, y_valid, X_test"
   ]
  },
  {
   "cell_type": "code",
   "execution_count": null,
   "metadata": {
    "ExecuteTime": {
     "start_time": "2019-11-02T08:24:52.378Z"
    }
   },
   "outputs": [],
   "source": [
    "def lgb_train(X_train, X_test, y_train, y_test, categorical_features, params):\n",
    "    lgtrain = lightgbm.Dataset(X_train, y_train,categorical_feature=categorical_features)\n",
    "    lgvalid = lightgbm.Dataset(X_test, y_test,categorical_feature=categorical_features)\n",
    "    model = lightgbm.train(params, lgtrain, 4000, valid_sets=[lgvalid], early_stopping_rounds=400, verbose_eval=200)\n",
    "    pred_test = model.predict(X_test, num_iteration=model.best_iteration)\n",
    "    return model, pred_test"
   ]
  },
  {
   "cell_type": "code",
   "execution_count": null,
   "metadata": {
    "ExecuteTime": {
     "start_time": "2019-11-02T08:24:52.761Z"
    }
   },
   "outputs": [],
   "source": [
    "categorical_features = ['item_category_id', 'month', 'subcat1', 'subcat2', 'city_code']"
   ]
  },
  {
   "cell_type": "code",
   "execution_count": null,
   "metadata": {
    "ExecuteTime": {
     "start_time": "2019-11-02T08:24:53.161Z"
    }
   },
   "outputs": [],
   "source": [
    "X_train, X_valid, y_train, y_valid, X_test = train_test_modern(X)"
   ]
  },
  {
   "cell_type": "code",
   "execution_count": null,
   "metadata": {
    "ExecuteTime": {
     "start_time": "2019-11-02T08:24:53.541Z"
    }
   },
   "outputs": [],
   "source": [
    "params = {\n",
    "    \"objective\" : \"regression\",\n",
    "    'max_depth' : 8,\n",
    "    \"metric\" : \"rmse\", \n",
    "    \"num_threads\" : -1,\n",
    "    \"learning_rate\" : 0.05,\n",
    "    'bagging_fraction': 0.8,\n",
    "    \"verbosity\" : -1\n",
    "    }"
   ]
  },
  {
   "cell_type": "code",
   "execution_count": null,
   "metadata": {
    "ExecuteTime": {
     "start_time": "2019-11-02T08:24:54.067Z"
    }
   },
   "outputs": [],
   "source": [
    "model, pred_valid_lgb = lgb_train(X_train, X_valid, y_train, y_valid, categorical_features, params)"
   ]
  },
  {
   "cell_type": "code",
   "execution_count": null,
   "metadata": {
    "ExecuteTime": {
     "start_time": "2019-11-02T08:24:54.713Z"
    }
   },
   "outputs": [],
   "source": [
    "np.sqrt(mean_squared_error(y_valid, pred_valid_lgb))"
   ]
  },
  {
   "cell_type": "code",
   "execution_count": null,
   "metadata": {
    "ExecuteTime": {
     "start_time": "2019-11-02T08:24:55.869Z"
    }
   },
   "outputs": [],
   "source": [
    "feature_importance = pd.DataFrame({'feature': X_train.columns, 'importance':model.feature_importance()}).sort_values('importance', ascending=False)[:100]\n",
    "\n",
    "plt.figure(figsize=(10,12))\n",
    "sns.barplot(x=feature_importance.importance, y=feature_importance.feature);"
   ]
  },
  {
   "cell_type": "code",
   "execution_count": null,
   "metadata": {
    "ExecuteTime": {
     "start_time": "2019-11-02T08:24:56.686Z"
    }
   },
   "outputs": [],
   "source": [
    "pred_test_lgb = model.predict(X_test, num_iteration=model.best_iteration )"
   ]
  },
  {
   "cell_type": "markdown",
   "metadata": {},
   "source": [
    "## Model 2 - Catboost"
   ]
  },
  {
   "cell_type": "code",
   "execution_count": null,
   "metadata": {
    "ExecuteTime": {
     "end_time": "2019-11-02T08:16:42.561562Z",
     "start_time": "2019-11-02T08:16:42.547599Z"
    }
   },
   "outputs": [],
   "source": [
    "def cat_train(X_train, X_test, y_train, y_test, categorical_features, params):\n",
    "    model = CatBoostRegressor(**(params))\n",
    "    model.fit(X_train, \n",
    "        y_train.astype(int), \n",
    "        eval_set=(X_test, y_test.astype(int)), \n",
    "        cat_features=categorical_features, \n",
    "        use_best_model=True, \n",
    "        verbose=200)\n",
    "\n",
    "    pred = model.predict(X_test)\n",
    "    return model, pred"
   ]
  },
  {
   "cell_type": "code",
   "execution_count": null,
   "metadata": {
    "ExecuteTime": {
     "end_time": "2019-11-02T08:16:44.228927Z",
     "start_time": "2019-11-02T08:16:44.220946Z"
    }
   },
   "outputs": [],
   "source": [
    "params_cat =  {'iterations': 1000,\n",
    "    'random_seed': 63,\n",
    "    'learning_rate': 0.05,\n",
    "    'eval_metric': 'RMSE',\n",
    "    'bagging_temperature': 0.2,\n",
    "    'early_stopping_rounds': 200,\n",
    "    'leaf_estimation_method': 'Newton'}"
   ]
  },
  {
   "cell_type": "code",
   "execution_count": null,
   "metadata": {
    "ExecuteTime": {
     "start_time": "2019-11-02T08:14:25.621Z"
    }
   },
   "outputs": [],
   "source": [
    "model_cat, pred_valid_cat = cat_train(X_train, X_valid, y_train, y_valid, categorical_features, params_cat)"
   ]
  },
  {
   "cell_type": "code",
   "execution_count": null,
   "metadata": {
    "ExecuteTime": {
     "start_time": "2019-11-02T08:14:27.190Z"
    }
   },
   "outputs": [],
   "source": [
    "np.sqrt(mean_squared_error(y_valid, pred_valid_cat))"
   ]
  },
  {
   "cell_type": "code",
   "execution_count": null,
   "metadata": {
    "ExecuteTime": {
     "start_time": "2019-11-02T11:01:58.080Z"
    }
   },
   "outputs": [],
   "source": [
    "pred_test_cat = model_cat.predict(X_test)"
   ]
  },
  {
   "cell_type": "markdown",
   "metadata": {},
   "source": [
    "## Model 2 - Liner Regression"
   ]
  },
  {
   "cell_type": "code",
   "execution_count": null,
   "metadata": {
    "ExecuteTime": {
     "start_time": "2019-11-02T11:02:06.758Z"
    }
   },
   "outputs": [],
   "source": [
    "columns_to_scale = ['target_lag_1', 'target_item_lag_1', 'target_shop_lag_1',\n",
    "       'target_lag_2', 'target_item_lag_2', 'target_shop_lag_2',\n",
    "       'target_lag_3', 'target_item_lag_3', 'target_shop_lag_3',\n",
    "       'target_lag_4', 'target_item_lag_4', 'target_shop_lag_4',\n",
    "       'target_lag_5', 'target_item_lag_5', 'target_shop_lag_5',\n",
    "       'target_lag_12', 'target_item_lag_12', 'target_shop_lag_12', 'mean_enc_item', 'item_price']"
   ]
  },
  {
   "cell_type": "code",
   "execution_count": null,
   "metadata": {
    "ExecuteTime": {
     "start_time": "2019-11-02T11:02:07.251Z"
    }
   },
   "outputs": [],
   "source": [
    "scaler = StandardScaler()\n",
    "X_train_lr = scaler.fit_transform(X_train[columns_to_scale])\n",
    "X_valid_lr = scaler.transform(X_valid[columns_to_scale])\n",
    "X_test_lr = scaler.transform(X_test[columns_to_scale])"
   ]
  },
  {
   "cell_type": "code",
   "execution_count": null,
   "metadata": {
    "ExecuteTime": {
     "start_time": "2019-11-02T11:02:08.349Z"
    }
   },
   "outputs": [],
   "source": [
    "lr = LinearRegression()\n",
    "lr.fit(X_train_lr, y_train)\n",
    "pred_valid_lr = lr.predict(X_valid_lr)"
   ]
  },
  {
   "cell_type": "code",
   "execution_count": null,
   "metadata": {
    "ExecuteTime": {
     "start_time": "2019-11-02T11:02:09.309Z"
    }
   },
   "outputs": [],
   "source": [
    "np.sqrt(mean_squared_error(y_valid, pred_valid_lr))"
   ]
  },
  {
   "cell_type": "code",
   "execution_count": null,
   "metadata": {
    "ExecuteTime": {
     "start_time": "2019-11-02T11:02:09.617Z"
    }
   },
   "outputs": [],
   "source": [
    "pred_test_lr = lr.predict(X_test_lr)"
   ]
  },
  {
   "cell_type": "markdown",
   "metadata": {
    "ExecuteTime": {
     "end_time": "2019-11-01T20:10:22.609463Z",
     "start_time": "2019-11-01T20:08:24.691Z"
    },
    "collapsed": true
   },
   "source": [
    "## Model3 - KNN Regressor"
   ]
  },
  {
   "cell_type": "code",
   "execution_count": null,
   "metadata": {
    "ExecuteTime": {
     "start_time": "2019-11-02T08:20:38.377Z"
    }
   },
   "outputs": [],
   "source": [
    "knn_model = KNeighborsRegressor(n_neighbors=9, leaf_size=13, n_jobs=-1)\n",
    "knn_model.fit(X_train_lr[-30000:], y_train[-30000:])\n",
    "pred_valid_knn = knn_model.predict(X_valid_lr)"
   ]
  },
  {
   "cell_type": "code",
   "execution_count": null,
   "metadata": {
    "ExecuteTime": {
     "start_time": "2019-11-02T08:20:38.867Z"
    }
   },
   "outputs": [],
   "source": [
    "np.sqrt(mean_squared_error(y_valid, pred_valid_knn))"
   ]
  },
  {
   "cell_type": "code",
   "execution_count": null,
   "metadata": {
    "ExecuteTime": {
     "start_time": "2019-11-02T08:20:39.470Z"
    }
   },
   "outputs": [],
   "source": [
    "pred_test_knn = knn_model.predict(X_test_lr)"
   ]
  },
  {
   "cell_type": "markdown",
   "metadata": {
    "ExecuteTime": {
     "start_time": "2019-11-02T07:17:05.104Z"
    }
   },
   "source": [
    "## Ensembling"
   ]
  },
  {
   "cell_type": "markdown",
   "metadata": {},
   "source": [
    "Now we should create table from the predictions of all models"
   ]
  },
  {
   "cell_type": "code",
   "execution_count": null,
   "metadata": {
    "ExecuteTime": {
     "start_time": "2019-11-02T08:25:12.153Z"
    }
   },
   "outputs": [],
   "source": [
    "train_new = pd.DataFrame(index=X_valid.index)\n",
    "train_new['lgb'] = pred_valid_lgb\n",
    "train_new['catboost'] = pred_valid_cat\n",
    "train_new['lr'] = pred_valid_lr\n",
    "train_new['knn'] = pred_valid_knn"
   ]
  },
  {
   "cell_type": "markdown",
   "metadata": {},
   "source": [
    "Fit meta model"
   ]
  },
  {
   "cell_type": "code",
   "execution_count": null,
   "metadata": {
    "ExecuteTime": {
     "start_time": "2019-11-02T08:25:12.856Z"
    }
   },
   "outputs": [],
   "source": [
    "lr_meta = LinearRegression()\n",
    "lr_meta.fit(train_new, y_valid)"
   ]
  },
  {
   "cell_type": "code",
   "execution_count": null,
   "metadata": {
    "ExecuteTime": {
     "start_time": "2019-11-02T08:25:13.149Z"
    }
   },
   "outputs": [],
   "source": [
    "test_new = pd.DataFrame(index=X_test.index)\n",
    "test_new['lgb'] = pred_test_lgb\n",
    "test_new['catboost'] = pred_test_cat\n",
    "test_new['lr'] = pred_test_lr\n",
    "test_new['knn'] = pred_test_knn"
   ]
  },
  {
   "cell_type": "markdown",
   "metadata": {},
   "source": [
    "Make final prediction"
   ]
  },
  {
   "cell_type": "code",
   "execution_count": null,
   "metadata": {
    "ExecuteTime": {
     "start_time": "2019-11-02T08:25:13.882Z"
    }
   },
   "outputs": [],
   "source": [
    "result = lr_meta.predict(test_new)"
   ]
  },
  {
   "cell_type": "markdown",
   "metadata": {},
   "source": [
    "Create submission"
   ]
  },
  {
   "cell_type": "code",
   "execution_count": null,
   "metadata": {
    "ExecuteTime": {
     "start_time": "2019-11-02T08:13:04.434Z"
    }
   },
   "outputs": [],
   "source": [
    "def submis_write(res, filename='sub.csv'):\n",
    "    submis = pd.DataFrame({'ID': test.index, 'item_cnt_month': res})\n",
    "    submis.to_csv(filename, index=False)"
   ]
  },
  {
   "cell_type": "code",
   "execution_count": null,
   "metadata": {
    "ExecuteTime": {
     "start_time": "2019-11-02T08:13:04.437Z"
    }
   },
   "outputs": [],
   "source": [
    "submis_write(result)"
   ]
  },
  {
   "cell_type": "code",
   "execution_count": null,
   "metadata": {
    "collapsed": true
   },
   "outputs": [],
   "source": []
  }
 ],
 "metadata": {
  "kernelspec": {
   "display_name": "Python 3",
   "language": "python",
   "name": "python3"
  },
  "language_info": {
   "codemirror_mode": {
    "name": "ipython",
    "version": 3
   },
   "file_extension": ".py",
   "mimetype": "text/x-python",
   "name": "python",
   "nbconvert_exporter": "python",
   "pygments_lexer": "ipython3",
   "version": "3.7.3"
  },
  "varInspector": {
   "cols": {
    "lenName": 16,
    "lenType": 16,
    "lenVar": 40
   },
   "kernels_config": {
    "python": {
     "delete_cmd_postfix": "",
     "delete_cmd_prefix": "del ",
     "library": "var_list.py",
     "varRefreshCmd": "print(var_dic_list())"
    },
    "r": {
     "delete_cmd_postfix": ") ",
     "delete_cmd_prefix": "rm(",
     "library": "var_list.r",
     "varRefreshCmd": "cat(var_dic_list()) "
    }
   },
   "position": {
    "height": "552px",
    "left": "1008px",
    "right": "20px",
    "top": "127px",
    "width": "573px"
   },
   "types_to_exclude": [
    "module",
    "function",
    "builtin_function_or_method",
    "instance",
    "_Feature"
   ],
   "window_display": false
  },
  "widgets": {
   "application/vnd.jupyter.widget-state+json": {
    "state": {
     "00847f8b832c4706964d1395e542e9ac": {
      "model_module": "@jupyter-widgets/controls",
      "model_module_version": "1.5.0",
      "model_name": "HBoxModel",
      "state": {
       "_dom_classes": [],
       "_model_module": "@jupyter-widgets/controls",
       "_model_module_version": "1.5.0",
       "_model_name": "HBoxModel",
       "_view_count": null,
       "_view_module": "@jupyter-widgets/controls",
       "_view_module_version": "1.5.0",
       "_view_name": "HBoxView",
       "box_style": "",
       "children": [
        "IPY_MODEL_ad3bcc3591254e858f84dc58c3e356b0",
        "IPY_MODEL_82789949ef5b4b38903e82d988f1e8b5"
       ],
       "layout": "IPY_MODEL_fd3499b0180946cd8bc668f672df5f7e"
      }
     },
     "3e38cd0fce0d4c828cd710f8326421c0": {
      "model_module": "@jupyter-widgets/controls",
      "model_module_version": "1.5.0",
      "model_name": "DescriptionStyleModel",
      "state": {
       "_model_module": "@jupyter-widgets/controls",
       "_model_module_version": "1.5.0",
       "_model_name": "DescriptionStyleModel",
       "_view_count": null,
       "_view_module": "@jupyter-widgets/base",
       "_view_module_version": "1.2.0",
       "_view_name": "StyleView",
       "description_width": ""
      }
     },
     "82789949ef5b4b38903e82d988f1e8b5": {
      "model_module": "@jupyter-widgets/controls",
      "model_module_version": "1.5.0",
      "model_name": "HTMLModel",
      "state": {
       "_dom_classes": [],
       "_model_module": "@jupyter-widgets/controls",
       "_model_module_version": "1.5.0",
       "_model_name": "HTMLModel",
       "_view_count": null,
       "_view_module": "@jupyter-widgets/controls",
       "_view_module_version": "1.5.0",
       "_view_name": "HTMLView",
       "description": "",
       "description_tooltip": null,
       "layout": "IPY_MODEL_a68628d1de2a4fa99331c3c69cff1aa1",
       "placeholder": "​",
       "style": "IPY_MODEL_3e38cd0fce0d4c828cd710f8326421c0",
       "value": " 6/6 [01:10&lt;00:00, 11.76s/it]"
      }
     },
     "986df30dd2a14893ad6402fbd9b7a76e": {
      "model_module": "@jupyter-widgets/controls",
      "model_module_version": "1.5.0",
      "model_name": "ProgressStyleModel",
      "state": {
       "_model_module": "@jupyter-widgets/controls",
       "_model_module_version": "1.5.0",
       "_model_name": "ProgressStyleModel",
       "_view_count": null,
       "_view_module": "@jupyter-widgets/base",
       "_view_module_version": "1.2.0",
       "_view_name": "StyleView",
       "bar_color": null,
       "description_width": "initial"
      }
     },
     "a68628d1de2a4fa99331c3c69cff1aa1": {
      "model_module": "@jupyter-widgets/base",
      "model_module_version": "1.2.0",
      "model_name": "LayoutModel",
      "state": {
       "_model_module": "@jupyter-widgets/base",
       "_model_module_version": "1.2.0",
       "_model_name": "LayoutModel",
       "_view_count": null,
       "_view_module": "@jupyter-widgets/base",
       "_view_module_version": "1.2.0",
       "_view_name": "LayoutView",
       "align_content": null,
       "align_items": null,
       "align_self": null,
       "border": null,
       "bottom": null,
       "display": null,
       "flex": null,
       "flex_flow": null,
       "grid_area": null,
       "grid_auto_columns": null,
       "grid_auto_flow": null,
       "grid_auto_rows": null,
       "grid_column": null,
       "grid_gap": null,
       "grid_row": null,
       "grid_template_areas": null,
       "grid_template_columns": null,
       "grid_template_rows": null,
       "height": null,
       "justify_content": null,
       "justify_items": null,
       "left": null,
       "margin": null,
       "max_height": null,
       "max_width": null,
       "min_height": null,
       "min_width": null,
       "object_fit": null,
       "object_position": null,
       "order": null,
       "overflow": null,
       "overflow_x": null,
       "overflow_y": null,
       "padding": null,
       "right": null,
       "top": null,
       "visibility": null,
       "width": null
      }
     },
     "ad3bcc3591254e858f84dc58c3e356b0": {
      "model_module": "@jupyter-widgets/controls",
      "model_module_version": "1.5.0",
      "model_name": "IntProgressModel",
      "state": {
       "_dom_classes": [],
       "_model_module": "@jupyter-widgets/controls",
       "_model_module_version": "1.5.0",
       "_model_name": "IntProgressModel",
       "_view_count": null,
       "_view_module": "@jupyter-widgets/controls",
       "_view_module_version": "1.5.0",
       "_view_name": "ProgressView",
       "bar_style": "success",
       "description": "100%",
       "description_tooltip": null,
       "layout": "IPY_MODEL_de56895b38e840abbbac5c750ce0027a",
       "max": 6,
       "min": 0,
       "orientation": "horizontal",
       "style": "IPY_MODEL_986df30dd2a14893ad6402fbd9b7a76e",
       "value": 6
      }
     },
     "de56895b38e840abbbac5c750ce0027a": {
      "model_module": "@jupyter-widgets/base",
      "model_module_version": "1.2.0",
      "model_name": "LayoutModel",
      "state": {
       "_model_module": "@jupyter-widgets/base",
       "_model_module_version": "1.2.0",
       "_model_name": "LayoutModel",
       "_view_count": null,
       "_view_module": "@jupyter-widgets/base",
       "_view_module_version": "1.2.0",
       "_view_name": "LayoutView",
       "align_content": null,
       "align_items": null,
       "align_self": null,
       "border": null,
       "bottom": null,
       "display": null,
       "flex": null,
       "flex_flow": null,
       "grid_area": null,
       "grid_auto_columns": null,
       "grid_auto_flow": null,
       "grid_auto_rows": null,
       "grid_column": null,
       "grid_gap": null,
       "grid_row": null,
       "grid_template_areas": null,
       "grid_template_columns": null,
       "grid_template_rows": null,
       "height": null,
       "justify_content": null,
       "justify_items": null,
       "left": null,
       "margin": null,
       "max_height": null,
       "max_width": null,
       "min_height": null,
       "min_width": null,
       "object_fit": null,
       "object_position": null,
       "order": null,
       "overflow": null,
       "overflow_x": null,
       "overflow_y": null,
       "padding": null,
       "right": null,
       "top": null,
       "visibility": null,
       "width": null
      }
     },
     "fd3499b0180946cd8bc668f672df5f7e": {
      "model_module": "@jupyter-widgets/base",
      "model_module_version": "1.2.0",
      "model_name": "LayoutModel",
      "state": {
       "_model_module": "@jupyter-widgets/base",
       "_model_module_version": "1.2.0",
       "_model_name": "LayoutModel",
       "_view_count": null,
       "_view_module": "@jupyter-widgets/base",
       "_view_module_version": "1.2.0",
       "_view_name": "LayoutView",
       "align_content": null,
       "align_items": null,
       "align_self": null,
       "border": null,
       "bottom": null,
       "display": null,
       "flex": null,
       "flex_flow": null,
       "grid_area": null,
       "grid_auto_columns": null,
       "grid_auto_flow": null,
       "grid_auto_rows": null,
       "grid_column": null,
       "grid_gap": null,
       "grid_row": null,
       "grid_template_areas": null,
       "grid_template_columns": null,
       "grid_template_rows": null,
       "height": null,
       "justify_content": null,
       "justify_items": null,
       "left": null,
       "margin": null,
       "max_height": null,
       "max_width": null,
       "min_height": null,
       "min_width": null,
       "object_fit": null,
       "object_position": null,
       "order": null,
       "overflow": null,
       "overflow_x": null,
       "overflow_y": null,
       "padding": null,
       "right": null,
       "top": null,
       "visibility": null,
       "width": null
      }
     }
    },
    "version_major": 2,
    "version_minor": 0
   }
  }
 },
 "nbformat": 4,
 "nbformat_minor": 1
}
