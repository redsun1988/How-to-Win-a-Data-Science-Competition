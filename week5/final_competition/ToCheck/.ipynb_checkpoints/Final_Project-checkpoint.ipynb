{
 "cells": [
  {
   "cell_type": "markdown",
   "metadata": {},
   "source": [
    "Import all the necessary libraries"
   ]
  },
  {
   "cell_type": "code",
   "execution_count": 1,
   "metadata": {},
   "outputs": [
    {
     "ename": "ModuleNotFoundError",
     "evalue": "No module named 'catboost'",
     "output_type": "error",
     "traceback": [
      "\u001b[1;31m---------------------------------------------------------------------------\u001b[0m",
      "\u001b[1;31mModuleNotFoundError\u001b[0m                       Traceback (most recent call last)",
      "\u001b[1;32m<ipython-input-1-53dc18745667>\u001b[0m in \u001b[0;36m<module>\u001b[1;34m\u001b[0m\n\u001b[0;32m      2\u001b[0m \u001b[1;32mimport\u001b[0m \u001b[0mnumpy\u001b[0m \u001b[1;32mas\u001b[0m \u001b[0mnp\u001b[0m\u001b[1;33m\u001b[0m\u001b[1;33m\u001b[0m\u001b[0m\n\u001b[0;32m      3\u001b[0m \u001b[1;32mimport\u001b[0m \u001b[0mlightgbm\u001b[0m \u001b[1;32mas\u001b[0m \u001b[0mlgb\u001b[0m\u001b[1;33m\u001b[0m\u001b[1;33m\u001b[0m\u001b[0m\n\u001b[1;32m----> 4\u001b[1;33m \u001b[1;32mimport\u001b[0m \u001b[0mcatboost\u001b[0m \u001b[1;32mas\u001b[0m \u001b[0mcb\u001b[0m\u001b[1;33m\u001b[0m\u001b[1;33m\u001b[0m\u001b[0m\n\u001b[0m\u001b[0;32m      5\u001b[0m \u001b[1;32mimport\u001b[0m \u001b[0mos\u001b[0m\u001b[1;33m\u001b[0m\u001b[1;33m\u001b[0m\u001b[0m\n\u001b[0;32m      6\u001b[0m \u001b[1;32mimport\u001b[0m \u001b[0mgc\u001b[0m\u001b[1;33m\u001b[0m\u001b[1;33m\u001b[0m\u001b[0m\n",
      "\u001b[1;31mModuleNotFoundError\u001b[0m: No module named 'catboost'"
     ]
    }
   ],
   "source": [
    "import pandas as pd\n",
    "import numpy as np\n",
    "import lightgbm as lgb\n",
    "import catboost as cb\n",
    "import os\n",
    "import gc\n",
    "import matplotlib.pyplot as plt\n",
    "from itertools import product\n",
    "from sklearn.metrics import mean_squared_error\n",
    "from sklearn.linear_model import LinearRegression\n",
    "from sklearn.metrics import r2_score\n",
    "from tqdm import tqdm_notebook\n",
    "\n",
    "%matplotlib inline \n",
    "\n",
    "DATA_FOLDER = \"../data/\""
   ]
  },
  {
   "cell_type": "markdown",
   "metadata": {},
   "source": [
    "Define an informational function for each data set"
   ]
  },
  {
   "cell_type": "code",
   "execution_count": 11,
   "metadata": {},
   "outputs": [],
   "source": [
    "def show_data_info(name, data):\n",
    "    print(\"Shape for \" + name)\n",
    "    print(data.shape)\n",
    "    print(\"Head for \" + name)\n",
    "    print(data.head(10))\n",
    "    print(\"Info for \" + name)\n",
    "    print(data.info())\n",
    "    print(\"Data types for \" + name)\n",
    "    print(data.dtypes)\n",
    "    print(\"Missing values types for \" + name)\n",
    "    print(data.isnull().sum())\n",
    "    print(\"Null values types for \" + name)\n",
    "    print(data.isnull().sum())"
   ]
  },
  {
   "cell_type": "markdown",
   "metadata": {},
   "source": [
    "Now load all the data and print some information about the data"
   ]
  },
  {
   "cell_type": "code",
   "execution_count": 12,
   "metadata": {},
   "outputs": [
    {
     "name": "stdout",
     "output_type": "stream",
     "text": [
      "Shape for Transactions\n",
      "(2935849, 6)\n",
      "Head for Transactions\n",
      "         date  date_block_num  shop_id  item_id  item_price  item_cnt_day\n",
      "0  02.01.2013               0       59    22154      999.00           1.0\n",
      "1  03.01.2013               0       25     2552      899.00           1.0\n",
      "2  05.01.2013               0       25     2552      899.00          -1.0\n",
      "3  06.01.2013               0       25     2554     1709.05           1.0\n",
      "4  15.01.2013               0       25     2555     1099.00           1.0\n",
      "5  10.01.2013               0       25     2564      349.00           1.0\n",
      "6  02.01.2013               0       25     2565      549.00           1.0\n",
      "7  04.01.2013               0       25     2572      239.00           1.0\n",
      "8  11.01.2013               0       25     2572      299.00           1.0\n",
      "9  03.01.2013               0       25     2573      299.00           3.0\n",
      "Info for Transactions\n",
      "<class 'pandas.core.frame.DataFrame'>\n",
      "RangeIndex: 2935849 entries, 0 to 2935848\n",
      "Data columns (total 6 columns):\n",
      "date              object\n",
      "date_block_num    int64\n",
      "shop_id           int64\n",
      "item_id           int64\n",
      "item_price        float64\n",
      "item_cnt_day      float64\n",
      "dtypes: float64(2), int64(3), object(1)\n",
      "memory usage: 134.4+ MB\n",
      "None\n",
      "Data types for Transactions\n",
      "date               object\n",
      "date_block_num      int64\n",
      "shop_id             int64\n",
      "item_id             int64\n",
      "item_price        float64\n",
      "item_cnt_day      float64\n",
      "dtype: object\n",
      "Missing values types for Transactions\n",
      "date              0\n",
      "date_block_num    0\n",
      "shop_id           0\n",
      "item_id           0\n",
      "item_price        0\n",
      "item_cnt_day      0\n",
      "dtype: int64\n",
      "Null values types for Transactions\n",
      "date              0\n",
      "date_block_num    0\n",
      "shop_id           0\n",
      "item_id           0\n",
      "item_price        0\n",
      "item_cnt_day      0\n",
      "dtype: int64\n",
      "Shape for Items\n",
      "(22170, 3)\n",
      "Head for Items\n",
      "                                           item_name  item_id  \\\n",
      "0          ! ВО ВЛАСТИ НАВАЖДЕНИЯ (ПЛАСТ.)         D        0   \n",
      "1  !ABBYY FineReader 12 Professional Edition Full...        1   \n",
      "2      ***В ЛУЧАХ СЛАВЫ   (UNV)                    D        2   \n",
      "3    ***ГОЛУБАЯ ВОЛНА  (Univ)                      D        3   \n",
      "4        ***КОРОБКА (СТЕКЛО)                       D        4   \n",
      "5  ***НОВЫЕ АМЕРИКАНСКИЕ ГРАФФИТИ  (UNI)         ...        5   \n",
      "6           ***УДАР ПО ВОРОТАМ (UNI)               D        6   \n",
      "7         ***УДАР ПО ВОРОТАМ-2 (UNI)               D        7   \n",
      "8           ***ЧАЙ С МУССОЛИНИ                     D        8   \n",
      "9      ***ШУГАРЛЭНДСКИЙ ЭКСПРЕСС (UNI)             D        9   \n",
      "\n",
      "   item_category_id  \n",
      "0                40  \n",
      "1                76  \n",
      "2                40  \n",
      "3                40  \n",
      "4                40  \n",
      "5                40  \n",
      "6                40  \n",
      "7                40  \n",
      "8                40  \n",
      "9                40  \n",
      "Info for Items\n",
      "<class 'pandas.core.frame.DataFrame'>\n",
      "RangeIndex: 22170 entries, 0 to 22169\n",
      "Data columns (total 3 columns):\n",
      "item_name           22170 non-null object\n",
      "item_id             22170 non-null int64\n",
      "item_category_id    22170 non-null int64\n",
      "dtypes: int64(2), object(1)\n",
      "memory usage: 519.7+ KB\n",
      "None\n",
      "Data types for Items\n",
      "item_name           object\n",
      "item_id              int64\n",
      "item_category_id     int64\n",
      "dtype: object\n",
      "Missing values types for Items\n",
      "item_name           0\n",
      "item_id             0\n",
      "item_category_id    0\n",
      "dtype: int64\n",
      "Null values types for Items\n",
      "item_name           0\n",
      "item_id             0\n",
      "item_category_id    0\n",
      "dtype: int64\n",
      "Shape for Item_categories\n",
      "(84, 2)\n",
      "Head for Item_categories\n",
      "        item_category_name  item_category_id\n",
      "0  PC - Гарнитуры/Наушники                 0\n",
      "1         Аксессуары - PS2                 1\n",
      "2         Аксессуары - PS3                 2\n",
      "3         Аксессуары - PS4                 3\n",
      "4         Аксессуары - PSP                 4\n",
      "5      Аксессуары - PSVita                 5\n",
      "6    Аксессуары - XBOX 360                 6\n",
      "7    Аксессуары - XBOX ONE                 7\n",
      "8           Билеты (Цифра)                 8\n",
      "9          Доставка товара                 9\n",
      "Info for Item_categories\n",
      "<class 'pandas.core.frame.DataFrame'>\n",
      "RangeIndex: 84 entries, 0 to 83\n",
      "Data columns (total 2 columns):\n",
      "item_category_name    84 non-null object\n",
      "item_category_id      84 non-null int64\n",
      "dtypes: int64(1), object(1)\n",
      "memory usage: 1.4+ KB\n",
      "None\n",
      "Data types for Item_categories\n",
      "item_category_name    object\n",
      "item_category_id       int64\n",
      "dtype: object\n",
      "Missing values types for Item_categories\n",
      "item_category_name    0\n",
      "item_category_id      0\n",
      "dtype: int64\n",
      "Null values types for Item_categories\n",
      "item_category_name    0\n",
      "item_category_id      0\n",
      "dtype: int64\n",
      "Shape for Shops\n",
      "(60, 2)\n",
      "Head for Shops\n",
      "                        shop_name  shop_id\n",
      "0   !Якутск Орджоникидзе, 56 фран        0\n",
      "1   !Якутск ТЦ \"Центральный\" фран        1\n",
      "2                Адыгея ТЦ \"Мега\"        2\n",
      "3  Балашиха ТРК \"Октябрь-Киномир\"        3\n",
      "4        Волжский ТЦ \"Волга Молл\"        4\n",
      "5          Вологда ТРЦ \"Мармелад\"        5\n",
      "6      Воронеж (Плехановская, 13)        6\n",
      "7          Воронеж ТРЦ \"Максимир\"        7\n",
      "8    Воронеж ТРЦ Сити-Парк \"Град\"        8\n",
      "9               Выездная Торговля        9\n",
      "Info for Shops\n",
      "<class 'pandas.core.frame.DataFrame'>\n",
      "RangeIndex: 60 entries, 0 to 59\n",
      "Data columns (total 2 columns):\n",
      "shop_name    60 non-null object\n",
      "shop_id      60 non-null int64\n",
      "dtypes: int64(1), object(1)\n",
      "memory usage: 1.1+ KB\n",
      "None\n",
      "Data types for Shops\n",
      "shop_name    object\n",
      "shop_id       int64\n",
      "dtype: object\n",
      "Missing values types for Shops\n",
      "shop_name    0\n",
      "shop_id      0\n",
      "dtype: int64\n",
      "Null values types for Shops\n",
      "shop_name    0\n",
      "shop_id      0\n",
      "dtype: int64\n",
      "Shape for Test\n",
      "(214200, 3)\n",
      "Head for Test\n",
      "   ID  shop_id  item_id\n",
      "0   0        5     5037\n",
      "1   1        5     5320\n",
      "2   2        5     5233\n",
      "3   3        5     5232\n",
      "4   4        5     5268\n",
      "5   5        5     5039\n",
      "6   6        5     5041\n",
      "7   7        5     5046\n",
      "8   8        5     5319\n",
      "9   9        5     5003\n",
      "Info for Test\n",
      "<class 'pandas.core.frame.DataFrame'>\n",
      "RangeIndex: 214200 entries, 0 to 214199\n",
      "Data columns (total 3 columns):\n",
      "ID         214200 non-null int64\n",
      "shop_id    214200 non-null int64\n",
      "item_id    214200 non-null int64\n",
      "dtypes: int64(3)\n",
      "memory usage: 4.9 MB\n",
      "None\n",
      "Data types for Test\n",
      "ID         int64\n",
      "shop_id    int64\n",
      "item_id    int64\n",
      "dtype: object\n",
      "Missing values types for Test\n",
      "ID         0\n",
      "shop_id    0\n",
      "item_id    0\n",
      "dtype: int64\n",
      "Null values types for Test\n",
      "ID         0\n",
      "shop_id    0\n",
      "item_id    0\n",
      "dtype: int64\n"
     ]
    }
   ],
   "source": [
    "transactions = pd.read_csv(os.path.join(DATA_FOLDER, 'sales_train.csv'))\n",
    "show_data_info(\"Transactions\", transactions)\n",
    "items = pd.read_csv(os.path.join(DATA_FOLDER, 'items.csv'))\n",
    "show_data_info(\"Items\", items)\n",
    "item_categories = pd.read_csv(os.path.join(DATA_FOLDER, 'item_categories.csv'))\n",
    "show_data_info(\"Item_categories\", item_categories)\n",
    "shops = pd.read_csv(os.path.join(DATA_FOLDER, 'shops.csv'))\n",
    "show_data_info(\"Shops\", shops)\n",
    "test_orig = pd.read_csv(os.path.join(DATA_FOLDER, 'test.csv'))\n",
    "show_data_info(\"Test\", test_orig)"
   ]
  },
  {
   "cell_type": "markdown",
   "metadata": {},
   "source": [
    "Merge data together to get full data set"
   ]
  },
  {
   "cell_type": "code",
   "execution_count": 13,
   "metadata": {},
   "outputs": [],
   "source": [
    "item_data = items.merge(item_categories, how=\"left\")\n",
    "transactions = transactions.merge(item_data, how='left')"
   ]
  },
  {
   "cell_type": "markdown",
   "metadata": {},
   "source": [
    "Notice there are no null values in any of the data, so lets analyse "
   ]
  },
  {
   "cell_type": "code",
   "execution_count": 14,
   "metadata": {},
   "outputs": [
    {
     "data": {
      "text/plain": [
       "Text(0.5, 1.0, 'Item count')"
      ]
     },
     "execution_count": 14,
     "metadata": {},
     "output_type": "execute_result"
    },
    {
     "data": {
      "image/png": "[encoded data removed]",
      "text/plain": [
       "<Figure size 432x288 with 1 Axes>"
      ]
     },
     "metadata": {
      "needs_background": "light"
     },
     "output_type": "display_data"
    }
   ],
   "source": [
    "results = transactions.groupby('item_id')[\"item_cnt_day\"].sum().reset_index(name=\"item_count\")\n",
    "plt.plot(results.item_id, results.item_count)\n",
    "plt.title('Item count')"
   ]
  },
  {
   "cell_type": "markdown",
   "metadata": {},
   "source": [
    "One item seems to be far more popular. Lets look at the revenue generation over the time of the sales data"
   ]
  },
  {
   "cell_type": "code",
   "execution_count": 15,
   "metadata": {},
   "outputs": [
    {
     "data": {
      "text/plain": [
       "Text(0.5, 1.0, 'Revenue by Date Block')"
      ]
     },
     "execution_count": 15,
     "metadata": {},
     "output_type": "execute_result"
    },
    {
     "data": {
      "image/png": "[encoded data removed]",
      "text/plain": [
       "<Figure size 432x288 with 1 Axes>"
      ]
     },
     "metadata": {
      "needs_background": "light"
     },
     "output_type": "display_data"
    }
   ],
   "source": [
    "transactions['revenue'] = transactions['item_cnt_day'] * transactions['item_price']\n",
    "# have a look at how revenue has gone over time\n",
    "results = transactions.groupby('date_block_num')[\"revenue\"].sum().reset_index(name=\"db_revenue\")\n",
    "plt.xlabel('Date Block')\n",
    "plt.ylabel('Revenue')\n",
    "plt.bar(results.date_block_num, results.db_revenue)\n",
    "plt.title('Revenue by Date Block')"
   ]
  },
  {
   "cell_type": "markdown",
   "metadata": {},
   "source": [
    "Can definitely see the seasonal trends.\n",
    "\n",
    "Whats the distribution for revenue by category"
   ]
  },
  {
   "cell_type": "code",
   "execution_count": 16,
   "metadata": {},
   "outputs": [
    {
     "data": {
      "text/plain": [
       "Text(0.5, 1.0, 'Revenue by Item Category')"
      ]
     },
     "execution_count": 16,
     "metadata": {},
     "output_type": "execute_result"
    },
    {
     "data": {
      "image/png": "[encoded data removed]",
      "text/plain": [
       "<Figure size 432x288 with 1 Axes>"
      ]
     },
     "metadata": {
      "needs_background": "light"
     },
     "output_type": "display_data"
    }
   ],
   "source": [
    "results = transactions.groupby('item_category_id')[\"revenue\"].sum().reset_index(name=\"item_category_revenue\")\n",
    "plt.xlabel('Item Category id')\n",
    "plt.ylabel('Revenue')\n",
    "plt.bar(results.item_category_id, results.item_category_revenue)\n",
    "plt.title(\"Revenue by Item Category\")"
   ]
  },
  {
   "cell_type": "code",
   "execution_count": 17,
   "metadata": {},
   "outputs": [
    {
     "data": {
      "text/plain": [
       "Text(0.5, 1.0, 'Revenue By Shop')"
      ]
     },
     "execution_count": 17,
     "metadata": {},
     "output_type": "execute_result"
    },
    {
     "data": {
      "image/png": "[encoded data removed]",
      "text/plain": [
       "<Figure size 432x288 with 1 Axes>"
      ]
     },
     "metadata": {
      "needs_background": "light"
     },
     "output_type": "display_data"
    }
   ],
   "source": [
    "results = transactions.groupby(['shop_id'])['revenue'].sum().reset_index(name=\"revenue_by_shop\")\n",
    "plt.xlabel('Shop id')\n",
    "plt.ylabel('Revenue')\n",
    "plt.bar(results.shop_id, results.revenue_by_shop)\n",
    "plt.title(\"Revenue By Shop\")"
   ]
  },
  {
   "cell_type": "markdown",
   "metadata": {},
   "source": [
    "Set the date block for the test data to be 34, i.e. the max of the train data plus 1 as it is the next date block"
   ]
  },
  {
   "cell_type": "code",
   "execution_count": 18,
   "metadata": {},
   "outputs": [],
   "source": [
    "def add_date_block_to_test(test, items, item_categories):\n",
    "    # add date block num to test data and set it to next after max of the train data\n",
    "    _test = test.copy()\n",
    "    _test['date_block_num'] = 34\n",
    "    _test.drop('ID', axis=1, inplace=True)\n",
    "\n",
    "    _test = _test.merge(items, how='left', on='item_id')\n",
    "    _test = _test.merge(item_categories, how='left', on='item_category_id')\n",
    "    _test.drop('item_name', axis=1, inplace=True)\n",
    "\n",
    "    return _test"
   ]
  },
  {
   "cell_type": "code",
   "execution_count": 19,
   "metadata": {},
   "outputs": [],
   "source": [
    "test = add_date_block_to_test(test_orig, items, item_categories)"
   ]
  },
  {
   "cell_type": "code",
   "execution_count": 20,
   "metadata": {},
   "outputs": [
    {
     "name": "stderr",
     "output_type": "stream",
     "text": [
      "/Users/matthewsimmerson/anaconda3/lib/python3.7/site-packages/ipykernel_launcher.py:2: FutureWarning: Sorting because non-concatenation axis is not aligned. A future version\n",
      "of pandas will change to not sort by default.\n",
      "\n",
      "To accept the future behavior, pass 'sort=False'.\n",
      "\n",
      "To retain the current behavior and silence the warning, pass 'sort=True'.\n",
      "\n",
      "  \n"
     ]
    },
    {
     "data": {
      "text/plain": [
       "'        date  date_block_num  item_category_id                   item_category_name  item_cnt_day  item_id item_name  item_price  revenue  shop_id\\n2935849    0              34                19                           Игры - PS3           0.0     5037         0         0.0      0.0        5\\n2935850    0              34                55  Музыка - CD локального производства           0.0     5320         0         0.0      0.0        5\\n2935851    0              34                19                           Игры - PS3           0.0     5233         0         0.0      0.0        5\\n2935852    0              34                23                      Игры - XBOX 360           0.0     5232         0         0.0      0.0        5\\n2935853    0              34                20                           Игры - PS4           0.0     5268         0         0.0      0.0        5'"
      ]
     },
     "execution_count": 20,
     "metadata": {},
     "output_type": "execute_result"
    }
   ],
   "source": [
    "# update data set with test data\n",
    "full_data = pd.concat([transactions, test], axis=0, ignore_index=True).fillna(0)\n",
    "# and confirm it's present in the full data\n",
    "full_data[full_data['date_block_num'] == 34].head(5).to_string()"
   ]
  },
  {
   "cell_type": "markdown",
   "metadata": {},
   "source": [
    "Clearly there is a strong relationship with time, so need to add in some features that add in the history for a given shop and item and create a feature matrix"
   ]
  },
  {
   "cell_type": "code",
   "execution_count": 21,
   "metadata": {},
   "outputs": [],
   "source": [
    "def downcast_dtypes(df):\n",
    "    '''\n",
    "        Changes column types in the dataframe:\n",
    "\n",
    "                `float64` type to `float32`\n",
    "                `int64`   type to `int32`\n",
    "    '''\n",
    "\n",
    "    # Select columns to downcast\n",
    "    float_cols = [c for c in df if df[c].dtype == \"float64\"]\n",
    "    int_cols = [c for c in df if df[c].dtype == \"int64\"]\n",
    "\n",
    "    # Downcast\n",
    "    df[float_cols] = df[float_cols].astype(np.float32)\n",
    "    df[int_cols] = df[int_cols].astype(np.int32)\n",
    "\n",
    "    return df\n",
    "\n",
    "\n",
    "def create_data_grid(transactions, items):\n",
    "    index_cols = ['shop_id', 'item_id', 'date_block_num']\n",
    "\n",
    "    # For every month we create a grid from all shops/items combinations from that month\n",
    "    grid = []\n",
    "    for block_num in transactions['date_block_num'].unique():\n",
    "        cur_shops = transactions[transactions['date_block_num'] == block_num]['shop_id'].unique()\n",
    "        cur_items = transactions[transactions['date_block_num'] == block_num]['item_id'].unique()\n",
    "        grid.append(np.array(list(product(*[cur_shops, cur_items, [block_num]])), dtype='int32'))\n",
    "\n",
    "    #turn the grid into pandas dataframe\n",
    "    grid = pd.DataFrame(np.vstack(grid), columns=index_cols, dtype=np.int32)\n",
    "    # get aggregated values for (shop_id, item_id, month)\n",
    "    gb = transactions.groupby(index_cols, as_index=False).agg({'item_cnt_day': {'target': 'sum'}})\n",
    "    # Fix column names\n",
    "    gb.columns = [col[0] if col[-1] == '' else col[-1] for col in gb.columns.values]\n",
    "    # print(gb.columns)\n",
    "\n",
    "    # Join it to the grid\n",
    "    all_data = pd.merge(grid, gb, how='left', on=index_cols).fillna(0)\n",
    "\n",
    "    # Same as above but with shop-month aggregates\n",
    "    gb = transactions.groupby(['shop_id', 'date_block_num'], as_index=False).agg({'item_cnt_day': {'target_shop': 'sum'}})\n",
    "    gb.columns = [col[0] if col[-1] == '' else col[-1] for col in gb.columns.values]\n",
    "    all_data = pd.merge(all_data, gb, how='left', on=['shop_id', 'date_block_num']).fillna(0)\n",
    "\n",
    "    # Same as above but with item-month aggregates\n",
    "    gb = transactions.groupby(['item_id', 'date_block_num'], as_index=False).agg({'item_cnt_day': {'target_item': 'sum'}})\n",
    "    gb.columns = [col[0] if col[-1] == '' else col[-1] for col in gb.columns.values]\n",
    "    all_data = pd.merge(all_data, gb, how='left', on=['item_id', 'date_block_num']).fillna(0)\n",
    "\n",
    "    # Downcast dtypes from 64 to 32 bit to save memory\n",
    "    all_data = downcast_dtypes(all_data)\n",
    "    del grid, gb\n",
    "    gc.collect();\n",
    "\n",
    "    cols_to_rename = list(all_data.columns.difference(index_cols))\n",
    "\n",
    "    shift_range = [1, 2, 3, 4, 5, 12]\n",
    "\n",
    "    for month_shift in tqdm_notebook(shift_range):\n",
    "        train_shift = all_data[index_cols + cols_to_rename].copy()\n",
    "\n",
    "        train_shift['date_block_num'] = train_shift['date_block_num'] + month_shift\n",
    "\n",
    "        foo = lambda x: '{}_lag_{}'.format(x, month_shift) if x in cols_to_rename else x\n",
    "        train_shift = train_shift.rename(columns=foo)\n",
    "\n",
    "        all_data = pd.merge(all_data, train_shift, on=index_cols, how='left').fillna(0)\n",
    "\n",
    "    del train_shift\n",
    "\n",
    "    # Don't use old data from year 2013\n",
    "    all_data = all_data[all_data['date_block_num'] >= 12]\n",
    "\n",
    "    # List of all lagged features\n",
    "    fit_cols = [col for col in all_data.columns if col[-1] in [str(item) for item in shift_range]]\n",
    "    # We will drop these at fitting stage\n",
    "    to_drop_cols = list(set(list(all_data.columns)) - (set(fit_cols) | set(index_cols))) + ['date_block_num']\n",
    "\n",
    "    # Category for each item\n",
    "    item_category_mapping = items[['item_id', 'item_category_id']].drop_duplicates()\n",
    "\n",
    "    all_data = pd.merge(all_data, item_category_mapping, how='left', on='item_id')\n",
    "    all_data = downcast_dtypes(all_data)\n",
    "    gc.collect()\n",
    "\n",
    "    return all_data, to_drop_cols\n",
    "    \n",
    "    \n"
   ]
  },
  {
   "cell_type": "code",
   "execution_count": null,
   "metadata": {},
   "outputs": [
    {
     "name": "stderr",
     "output_type": "stream",
     "text": [
      "/Users/matthewsimmerson/anaconda3/lib/python3.7/site-packages/pandas/core/groupby/generic.py:1455: FutureWarning: using a dict with renaming is deprecated and will be removed\n",
      "in a future version.\n",
      "\n",
      "For column-specific groupby renaming, use named aggregation\n",
      "\n",
      "    >>> df.groupby(...).agg(name=('column', aggfunc))\n",
      "\n",
      "  return super().aggregate(arg, *args, **kwargs)\n"
     ]
    }
   ],
   "source": [
    "full_data, to_drop_cols = create_data_grid(full_data, items)\n",
    "full_data.head(5).to_string()"
   ]
  },
  {
   "cell_type": "markdown",
   "metadata": {},
   "source": [
    "Mean encoding of the item_category_id as it is the only categorical feature in the data set.  \n",
    "We will add the mean and variance of the "
   ]
  },
  {
   "cell_type": "code",
   "execution_count": null,
   "metadata": {},
   "outputs": [],
   "source": [
    "def mean_encoding(full_data):\n",
    "    mean_enc_item_cat = pd.DataFrame(full_data.groupby(['shop_id', 'item_category_id']).target.agg(['mean', 'var']).reset_index())\n",
    "    mean_enc_item_cat.columns = ['shop_id', 'item_category_id', 'mean_enc_cat_id', 'var_enc_cat_id']\n",
    "    full_data = pd.merge(full_data, mean_enc_item_cat, how='left', on=['shop_id', 'item_category_id'])\n",
    "    del mean_enc_item_cat\n",
    "    full_data = downcast_dtypes(full_data)\n",
    "\n",
    "    return full_data\n"
   ]
  },
  {
   "cell_type": "code",
   "execution_count": null,
   "metadata": {},
   "outputs": [],
   "source": [
    "full_data = mean_encoding(full_data)"
   ]
  },
  {
   "cell_type": "markdown",
   "metadata": {},
   "source": [
    "Now we need to split the data based on the date blocks to provide the level 1 data sets.  The validation set will be the last date block of the sales data and it's a time based problem the the train data will immediately precede that data block back to the first available lagged data which will be date block 12 (as we lagged upto 12 date blocks).  The submit data set will be those based on (the added) date block 34."
   ]
  },
  {
   "cell_type": "code",
   "execution_count": null,
   "metadata": {},
   "outputs": [],
   "source": [
    "def split_data_l1(all_data, to_drop_cols):\n",
    "    all_data = all_data.fillna(0)\n",
    "    dates = all_data['date_block_num']\n",
    "\n",
    "    last_block = dates.max()\n",
    "    # show progress\n",
    "    print('Test `date_block_num` is %d' % last_block)\n",
    "\n",
    "    x_train = all_data.loc[dates < 33].drop(to_drop_cols, axis=1)\n",
    "    x_validation = all_data.loc[dates == 33].drop(to_drop_cols, axis=1)\n",
    "    x_submit = all_data.loc[dates == 34].drop(to_drop_cols, axis=1)\n",
    "\n",
    "    y_train = all_data.loc[dates < 33, 'target'].values\n",
    "    y_validation = all_data.loc[dates == 33, 'target'].values\n",
    "    y_submit = all_data.loc[dates == 34, 'target'].values\n",
    "\n",
    "    dates_train = dates[dates < 33]\n",
    "    dates_validation = dates[dates == 33]\n",
    "\n",
    "    return x_train, y_train, x_validation, y_validation, x_submit, y_submit\n"
   ]
  },
  {
   "cell_type": "code",
   "execution_count": null,
   "metadata": {},
   "outputs": [],
   "source": [
    "x_train, y_train, x_validation, y_validation, x_submit, y_submit = split_data_l1(full_data, to_drop_cols)"
   ]
  },
  {
   "cell_type": "markdown",
   "metadata": {},
   "source": [
    "Now, the Ensemble part.  3 models will be created as the Level 1 models namely, LinearRegression, CatBoostRegressor and LightGBM which create a diverse set of models.  These will be combined into a final LinearRegression model to provide the ensemble output.  We will also examine the feature importance for the LightGBM model."
   ]
  },
  {
   "cell_type": "code",
   "execution_count": null,
   "metadata": {},
   "outputs": [],
   "source": [
    "# function to display the feature importances\n",
    "def feature_importances(lgbm, x_validation):\n",
    "    feat_importances = pd.Series(lgbm.feature_importance(), index=x_validation.columns)\n",
    "    feat_importances = feat_importances.nlargest(20)\n",
    "    feat_importances.plot(kind='barh')\n",
    "    plt.title('Feature importance')\n",
    "    plt.show()"
   ]
  },
  {
   "cell_type": "code",
   "execution_count": null,
   "metadata": {},
   "outputs": [],
   "source": [
    "# this is used to clip data between min and max values and is used to remove outliers in the data.  \n",
    "def clip(to_clip, min_value, max_value):\n",
    "    return np.clip(to_clip, min_value, max_value)\n",
    "\n",
    "# utility method that creates the root mean square error between the predicted and true values\n",
    "def rms_error(y_true, y_pred):\n",
    "    return np.sqrt(mean_squared_error(y_true, y_pred))"
   ]
  },
  {
   "cell_type": "markdown",
   "metadata": {},
   "source": [
    "Notice all target values (y_test, pred_lr etc) are clipped between 0 and 20.  This is to ensure that training is kept within these bounds and that any outliers a compressed into this range. "
   ]
  },
  {
   "cell_type": "code",
   "execution_count": null,
   "metadata": {},
   "outputs": [],
   "source": [
    "def linear_regression_r2(X_train, y_train, X_test, y_test):\n",
    "    lr = LinearRegression()\n",
    "    lr.fit(X_train.values, clip(y_train, 0, 20))\n",
    "    pred_lr = lr.predict(X_test.values)\n",
    "\n",
    "    print('Test R-squared for linreg is %f' % r2_score(clip(y_test, 0, 20), clip(pred_lr, 0, 20)))\n",
    "    print('Test rms error for linreg is %f' % rms_error(clip(y_test, 0, 20), clip(pred_lr, 0, 20)))\n",
    "\n",
    "    # feature_importances(pred_lr, X_test)\n",
    "\n",
    "    return lr, pred_lr"
   ]
  },
  {
   "cell_type": "code",
   "execution_count": null,
   "metadata": {},
   "outputs": [],
   "source": [
    "def light_gbm_r2(X_train, y_train, X_test, y_test):\n",
    "    lgb_params = {\n",
    "        'feature_fraction': 0.75,\n",
    "        'metric': 'rmse',\n",
    "        'nthread': 1,\n",
    "        'min_data_in_leaf': 2 ** 7,\n",
    "        'bagging_fraction': 0.75,\n",
    "        'learning_rate': 0.05,\n",
    "        'objective': 'mse',\n",
    "        'bagging_seed': 2 ** 7,\n",
    "        'num_leaves': 2 ** 7,\n",
    "        'bagging_freq': 1,\n",
    "        'verbose': 0\n",
    "    }\n",
    "\n",
    "    model = lgb.train(lgb_params, lgb.Dataset(X_train, label=clip(y_train, 0 , 20)), 100)\n",
    "    pred_lgb = model.predict(X_test)\n",
    "\n",
    "    print('Test R-squared for LightGBM is %f' % r2_score(clip(y_test, 0, 20), clip(pred_lgb, 0, 20)))\n",
    "    print('Test rms error for LightGBM is %f' % rms_error(clip(y_test, 0, 20), clip(pred_lgb, 0, 20)))\n",
    "\n",
    "    feature_importances(model, X_test)\n",
    "\n",
    "    return model, pred_lgb"
   ]
  },
  {
   "cell_type": "code",
   "execution_count": null,
   "metadata": {},
   "outputs": [],
   "source": [
    "def cat_boost_r2(x_train, y_train, x_test, y_test):\n",
    "    cat_b = cb.CatBoostRegressor(learning_rate=0.03,\n",
    "                                 l2_leaf_reg=3,\n",
    "                                 bagging_temperature=1,\n",
    "                                 random_strength=1,\n",
    "                                 random_seed=1000,\n",
    "                                 depth=6)\n",
    "\n",
    "    model = cat_b.fit(cb.Pool(data=x_train, label=clip(y_train, 0, 20)), plot=True)\n",
    "    pred_cat = model.predict(x_test)\n",
    "\n",
    "    print('Test R-squared for Catboost is %f' % r2_score(clip(y_test, 0, 20), clip(pred_cat, 0, 20)))\n",
    "    print('Test rms error for catboost is %f' % rms_error(clip(y_test, 0, 20), clip(pred_cat, 0, 20)))\n",
    "\n",
    "    # feature_importances(model, x_test)\n",
    "\n",
    "    return model, pred_cat\n"
   ]
  },
  {
   "cell_type": "markdown",
   "metadata": {},
   "source": [
    "Now we are ready to train all the level 1 models."
   ]
  },
  {
   "cell_type": "code",
   "execution_count": null,
   "metadata": {},
   "outputs": [],
   "source": [
    "lr, pred_lr = linear_regression_r2(x_train, y_train, x_validation, y_validation)"
   ]
  },
  {
   "cell_type": "code",
   "execution_count": null,
   "metadata": {},
   "outputs": [],
   "source": [
    "cat, pred_cat = cat_boost_r2(x_train, y_train, x_validation, y_validation)"
   ]
  },
  {
   "cell_type": "code",
   "execution_count": null,
   "metadata": {},
   "outputs": [],
   "source": [
    "lgbm, pred_lgb = light_gbm_r2(x_train, y_train, x_validation, y_validation)"
   ]
  },
  {
   "cell_type": "code",
   "execution_count": null,
   "metadata": {},
   "outputs": [],
   "source": [
    "def stack_lr(x_validation_l2, y_validation):\n",
    "    lr = LinearRegression()\n",
    "    lr.fit(x_validation_l2, clip(y_validation, 0, 40))\n",
    "    pred_lr_validation = lr.predict(x_validation_l2)\n",
    "    print('Test R-squared for linreg is %f' % r2_score(clip(y_validation, 0, 20), clip(pred_lr_validation, 0, 20)))\n",
    "    print('Test rmse for stacking variables is %f' % rms_error(clip(y_validation, 0, 20), clip(pred_lr_validation, 0, 20)))\n",
    "\n",
    "    return lr"
   ]
  },
  {
   "cell_type": "markdown",
   "metadata": {},
   "source": [
    "Create the level 2 validation set based on the predictions of all 3 models so we now create the ensemble."
   ]
  },
  {
   "cell_type": "code",
   "execution_count": null,
   "metadata": {},
   "outputs": [],
   "source": [
    "x_validation_level2 = np.c_[pred_lr, pred_cat, pred_lgb]\n",
    "stack = stack_lr(x_validation_level2, y_validation)"
   ]
  },
  {
   "cell_type": "markdown",
   "metadata": {},
   "source": [
    "Now we have all the trained models we can use the level 2 data to create the submission"
   ]
  },
  {
   "cell_type": "code",
   "execution_count": null,
   "metadata": {},
   "outputs": [],
   "source": [
    "pred_test_lr = lr.predict(x_submit.fillna(0))\n",
    "pred_test_cat = cat.predict(x_submit.fillna(0))\n",
    "pred_test_lgb = lgbm.predict(x_submit.fillna(0))"
   ]
  },
  {
   "cell_type": "code",
   "execution_count": null,
   "metadata": {},
   "outputs": [],
   "source": [
    "x_submit_level2 = np.c_[pred_test_lr, pred_test_cat, pred_test_lgb]\n",
    "submit_prediction = stack.predict(x_submit_level2)"
   ]
  },
  {
   "cell_type": "code",
   "execution_count": null,
   "metadata": {},
   "outputs": [],
   "source": [
    "def submit(results, key='item_cnt_month'):\n",
    "    # ensure the results predictions is the same size as the test set\n",
    "    assert results.values.shape[0] == 214200\n",
    "    results.fillna(0, inplace=True)\n",
    "    # clip any outliers\n",
    "    results[key].clip(0, 20, inplace=True)\n",
    "    results = results[['ID', key]]\n",
    "    results.columns = ['ID', 'item_cnt_month']\n",
    "    results.to_csv('submission.csv', index=False)"
   ]
  },
  {
   "cell_type": "code",
   "execution_count": null,
   "metadata": {},
   "outputs": [],
   "source": [
    "test_orig['item_cnt_month'] = submit_prediction\n",
    "submit(test_orig)"
   ]
  },
  {
   "cell_type": "code",
   "execution_count": null,
   "metadata": {},
   "outputs": [],
   "source": []
  }
 ],
 "metadata": {
  "kernelspec": {
   "display_name": "Python 3",
   "language": "python",
   "name": "python3"
  },
  "language_info": {
   "codemirror_mode": {
    "name": "ipython",
    "version": 3
   },
   "file_extension": ".py",
   "mimetype": "text/x-python",
   "name": "python",
   "nbconvert_exporter": "python",
   "pygments_lexer": "ipython3",
   "version": "3.7.3"
  }
 },
 "nbformat": 4,
 "nbformat_minor": 2
}
